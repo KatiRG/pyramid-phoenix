{
 "metadata": {
  "name": "",
  "signature": "sha256:29a610fdff8e0a67be574bc6a47db890b5563fd67d33dcdb284dd71d82b4be18"
 },
 "nbformat": 3,
 "nbformat_minor": 0,
 "worksheets": [
  {
   "cells": [
    {
     "cell_type": "heading",
     "level": 1,
     "metadata": {},
     "source": [
      "Tutorial: WPS *async execute* request"
     ]
    },
    {
     "cell_type": "markdown",
     "metadata": {},
     "source": [
      "Template for async execute request"
     ]
    },
    {
     "cell_type": "code",
     "collapsed": false,
     "input": [
      "req_url = \"{wps_url}?\" +\\\n",
      "    \"request=Execute\" +\\\n",
      "    \"&service=WPS\" +\\\n",
      "    \"&version=1.0.0\" +\\\n",
      "    \"&identifier={identifier}\" +\\\n",
      "    \"&DataInputs={inputs}\" +\\\n",
      "    \"&storeExecuteResponse=true\" +\\\n",
      "    \"&status=true\"\n",
      "    "
     ],
     "language": "python",
     "metadata": {},
     "outputs": [],
     "prompt_number": 1
    },
    {
     "cell_type": "markdown",
     "metadata": {},
     "source": [
      "Execute the *ultimate question* process again ..."
     ]
    },
    {
     "cell_type": "code",
     "collapsed": false,
     "input": [
      "url=req_url.format(\n",
      "    wps_url=\"https://mouflon.dkrz.de/wps\",\n",
      "    identifier=\"org.malleefowl.test.ultimatequestionprocess\", \n",
      "    inputs=\"\")\n",
      "print url  "
     ],
     "language": "python",
     "metadata": {},
     "outputs": [
      {
       "output_type": "stream",
       "stream": "stdout",
       "text": [
        "https://mouflon.dkrz.de/wps?request=Execute&service=WPS&version=1.0.0&identifier=org.malleefowl.test.ultimatequestionprocess&DataInputs=&storeExecuteResponse=true&status=true\n"
       ]
      }
     ],
     "prompt_number": 2
    },
    {
     "cell_type": "markdown",
     "metadata": {},
     "source": [
      "Get the *statusLocation* link from the response ..."
     ]
    },
    {
     "cell_type": "code",
     "collapsed": false,
     "input": [
      "import urllib\n",
      "response = urllib.urlopen(url)\n",
      "from lxml import etree\n",
      "tree = etree.parse(response)\n",
      "#print etree.tostring(tree)\n",
      "print tree.getroot().get(\"statusLocation\")"
     ],
     "language": "python",
     "metadata": {},
     "outputs": [
      {
       "output_type": "stream",
       "stream": "stdout",
       "text": [
        "http://mouflon.dkrz.de:80/wpsoutputs/pywps-56a5a68e-db86-11e3-9604-d25f2d6b8739.xml\n"
       ]
      }
     ],
     "prompt_number": 3
    },
    {
     "cell_type": "markdown",
     "metadata": {},
     "source": [
      "... check the url until process is finished."
     ]
    },
    {
     "cell_type": "code",
     "collapsed": false,
     "input": [],
     "language": "python",
     "metadata": {},
     "outputs": []
    }
   ],
   "metadata": {}
  }
 ]
}