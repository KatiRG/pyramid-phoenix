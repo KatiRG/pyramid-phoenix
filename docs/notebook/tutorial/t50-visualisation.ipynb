{
 "metadata": {
  "name": "",
  "signature": "sha256:77769490124c39462b1d22caa5597d8aeca34196e095d2592b894e83ca0439e4"
 },
 "nbformat": 3,
 "nbformat_minor": 0,
 "worksheets": [
  {
   "cells": [
    {
     "cell_type": "heading",
     "level": 1,
     "metadata": {},
     "source": [
      "Tutorial: Visualisation of temperature (tas)"
     ]
    },
    {
     "cell_type": "code",
     "collapsed": false,
     "input": [
      "from owslib.wps import WebProcessingService, monitorExecution\n",
      "wps = WebProcessingService(url=\"https://mouflon.dkrz.de/wps\", verbose=False)\n"
     ],
     "language": "python",
     "metadata": {},
     "outputs": [],
     "prompt_number": 4
    },
    {
     "cell_type": "code",
     "collapsed": false,
     "input": [
      "# generate tas plot for three netcdf files (ensemble)\n",
      "execute = wps.execute(\n",
      "    identifier=\"de.csc.visualisation.worker\",\n",
      "    inputs=[\n",
      "    (\"variable\", \"tas\"),\n",
      "    (\"file_identifier\",\n",
      "     \"https://mouflon.dkrz.de/thredds/fileServer/test/carsten@linacs.org/tas_day_MPI-ESM-LR_historical_r1i1p1_20000101-20051231.nc\"),\n",
      "    (\"file_identifier\",\n",
      "     \"https://mouflon.dkrz.de/thredds/fileServer/test/carsten@linacs.org/tas_day_MPI-ESM-LR_historical_r2i1p1_20000101-20051231.nc\"),\n",
      "    (\"file_identifier\",\n",
      "     \"https://mouflon.dkrz.de/thredds/fileServer/test/carsten@linacs.org/tas_day_MPI-ESM-LR_historical_r3i1p1_20000101-20051231.nc\")\n",
      "    ],\n",
      "    output=[(\"output\", True)])\n",
      "\n",
      "# check process if completed ...\n",
      "monitorExecution(execute, sleepSecs=5)\n",
      "\n",
      "\n",
      "# print output url ...\n",
      "o = execute.processOutputs[0]\n",
      "print o.reference\n"
     ],
     "language": "python",
     "metadata": {},
     "outputs": [
      {
       "output_type": "stream",
       "stream": "stdout",
       "text": [
        "Executing WPS request...\n",
        "Execution status=ProcessAccepted"
       ]
      },
      {
       "output_type": "stream",
       "stream": "stdout",
       "text": [
        "\n",
        "Percent completed=0\n",
        "Status message=Process de.csc.visualisation.worker accepted\n",
        "\n",
        "Checking execution status... (location=http://mouflon.dkrz.de:80/wpsoutputs/pywps-0ef48df8-dd18-11e3-a1a3-d25f2d6b8739.xml)\n",
        "Execution status=ProcessAccepted\n",
        "Percent completed=0\n",
        "Status message=Process de.csc.visualisation.worker accepted\n",
        "Sleeping 5 seconds...\n",
        "Execution status: ProcessAccepted"
       ]
      },
      {
       "output_type": "stream",
       "stream": "stdout",
       "text": [
        "\n",
        "\n",
        "Checking execution status... (location=http://mouflon.dkrz.de:80/wpsoutputs/pywps-0ef48df8-dd18-11e3-a1a3-d25f2d6b8739.xml)\n",
        "Execution status=ProcessPaused\n",
        "Percent completed=0\n",
        "Status message=Getting input file_identifier of process de.csc.visualisation.worker\n",
        "Sleeping 5 seconds...\n",
        "Execution status: ProcessPaused"
       ]
      },
      {
       "output_type": "stream",
       "stream": "stdout",
       "text": [
        "\n",
        "\n",
        "Checking execution status... (location=http://mouflon.dkrz.de:80/wpsoutputs/pywps-0ef48df8-dd18-11e3-a1a3-d25f2d6b8739.xml)\n",
        "Execution status=ProcessPaused\n",
        "Percent completed=0\n",
        "Status message=Getting input file_identifier of process de.csc.visualisation.worker\n",
        "Sleeping 5 seconds...\n",
        "Execution status: ProcessPaused"
       ]
      },
      {
       "output_type": "stream",
       "stream": "stdout",
       "text": [
        "\n",
        "\n",
        "Checking execution status... (location=http://mouflon.dkrz.de:80/wpsoutputs/pywps-0ef48df8-dd18-11e3-a1a3-d25f2d6b8739.xml)\n",
        "Execution status=ProcessPaused\n",
        "Percent completed=0\n",
        "Status message=Getting input file_identifier of process de.csc.visualisation.worker\n",
        "Sleeping 5 seconds...\n",
        "Execution status: ProcessPaused"
       ]
      },
      {
       "output_type": "stream",
       "stream": "stdout",
       "text": [
        "\n",
        "\n",
        "Checking execution status... (location=http://mouflon.dkrz.de:80/wpsoutputs/pywps-0ef48df8-dd18-11e3-a1a3-d25f2d6b8739.xml)\n",
        "Execution status=ProcessPaused\n",
        "Percent completed=0\n",
        "Status message=Getting input file_identifier of process de.csc.visualisation.worker\n",
        "Sleeping 5 seconds...\n",
        "Execution status: ProcessPaused"
       ]
      },
      {
       "output_type": "stream",
       "stream": "stdout",
       "text": [
        "\n",
        "\n",
        "Checking execution status... (location=http://mouflon.dkrz.de:80/wpsoutputs/pywps-0ef48df8-dd18-11e3-a1a3-d25f2d6b8739.xml)\n",
        "Execution status=ProcessStarted\n",
        "Percent completed=10\n",
        "Status message=processstarted looping files : /var/lib/pywps/temp/pywps-instanceOjUzA5/pywpsInputsD9RUA \n",
        "Sleeping 5 seconds...\n",
        "Execution status: ProcessStarted"
       ]
      },
      {
       "output_type": "stream",
       "stream": "stdout",
       "text": [
        "\n",
        "\n",
        "Checking execution status... (location=http://mouflon.dkrz.de:80/wpsoutputs/pywps-0ef48df8-dd18-11e3-a1a3-d25f2d6b8739.xml)\n",
        "Execution status=ProcessStarted\n",
        "Percent completed=55\n",
        "Status message=processstarted len strDate : 2192 \n",
        "Sleeping 5 seconds...\n",
        "Execution status: ProcessStarted"
       ]
      },
      {
       "output_type": "stream",
       "stream": "stdout",
       "text": [
        "\n",
        "\n",
        "Checking execution status... (location=http://mouflon.dkrz.de:80/wpsoutputs/pywps-0ef48df8-dd18-11e3-a1a3-d25f2d6b8739.xml)\n",
        "Execution status=ProcessSucceeded\n",
        "Percent completed=55\n",
        "Status message=PyWPS Process de.csc.visualisation.worker successfully calculated\n",
        "Execution status: ProcessSucceeded\n",
        "Output URL=http://mouflon.dkrz.de:80/wpsoutputs/output-0ef48df8-dd18-11e3-a1a3-d25f2d6b8739.html\n",
        "http://mouflon.dkrz.de:80/wpsoutputs/output-0ef48df8-dd18-11e3-a1a3-d25f2d6b8739.html\n"
       ]
      }
     ]
    },
    {
     "cell_type": "code",
     "collapsed": false,
     "input": [],
     "language": "python",
     "metadata": {},
     "outputs": []
    }
   ],
   "metadata": {}
  }
 ]
}