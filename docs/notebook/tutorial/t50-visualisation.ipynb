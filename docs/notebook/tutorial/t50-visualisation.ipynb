{
 "metadata": {
  "name": "",
  "signature": "sha256:9ace456e17d998aa4627163b8b815f883bf08838f25f17780cad07c82fe925c5"
 },
 "nbformat": 3,
 "nbformat_minor": 0,
 "worksheets": [
  {
   "cells": [
    {
     "cell_type": "code",
     "collapsed": false,
     "input": [
      "from owslib.wps import WebProcessingService, monitorExecution\n",
      "wps = WebProcessingService(url=\"https://mouflon.dkrz.de/wps\", verbose=False, skip_caps=False)\n"
     ],
     "language": "python",
     "metadata": {},
     "outputs": [],
     "prompt_number": 1
    },
    {
     "cell_type": "code",
     "collapsed": false,
     "input": [
      "# execute wordcount process with chomsky as input\n",
      "execute = wps.execute(\n",
      "    identifier=\"de.csc.visualisation.worker\",\n",
      "    inputs=[\n",
      "    (\"variable\", \"tas\"),\n",
      "    (\"file_identifier\", \"https://mouflon.dkrz.de/thredds/fileServer/test/tutorial/tas_EUR-11_MPI-M-MPI-ESM-LR_historical_r1i1p1_SMHI-RCA4_v1_day_19700101-19701231.nc\")],\n",
      "    output=[(\"output\", True)])\n",
      "\n",
      "# check process if completed ...\n",
      "monitorExecution(execute)\n",
      "\n",
      "\n"
     ],
     "language": "python",
     "metadata": {},
     "outputs": [
      {
       "output_type": "stream",
       "stream": "stdout",
       "text": [
        "Executing WPS request...\n",
        "Execution status=ProcessAccepted"
       ]
      },
      {
       "output_type": "stream",
       "stream": "stdout",
       "text": [
        "\n",
        "Percent completed=0\n",
        "Status message=Process de.csc.visualisation.worker accepted\n",
        "\n",
        "Checking execution status... (location=http://mouflon.dkrz.de:80/wpsoutputs/pywps-f51ca286-db8b-11e3-9347-d25f2d6b8739.xml)\n",
        "Execution status=ProcessAccepted\n",
        "Percent completed=0\n",
        "Status message=Process de.csc.visualisation.worker accepted\n",
        "Sleeping 3 seconds...\n",
        "Execution status: ProcessAccepted"
       ]
      },
      {
       "output_type": "stream",
       "stream": "stdout",
       "text": [
        "\n",
        "\n",
        "Checking execution status... (location=http://mouflon.dkrz.de:80/wpsoutputs/pywps-f51ca286-db8b-11e3-9347-d25f2d6b8739.xml)\n",
        "Execution status=ProcessPaused\n",
        "Percent completed=0\n",
        "Status message=Getting input file_identifier of process de.csc.visualisation.worker\n",
        "Sleeping 3 seconds...\n",
        "Execution status: ProcessPaused"
       ]
      },
      {
       "output_type": "stream",
       "stream": "stdout",
       "text": [
        "\n",
        "\n",
        "Checking execution status... (location=http://mouflon.dkrz.de:80/wpsoutputs/pywps-f51ca286-db8b-11e3-9347-d25f2d6b8739.xml)\n",
        "Execution status=ProcessStarted\n",
        "Percent completed=10\n",
        "Status message=processstarted looping files : /var/lib/pywps/temp/pywps-instancehMAVsD/pywpsInputf6tEvC \n",
        "Sleeping 3 seconds...\n",
        "Execution status: ProcessStarted"
       ]
      },
      {
       "output_type": "stream",
       "stream": "stdout",
       "text": [
        "\n",
        "\n",
        "Checking execution status... (location=http://mouflon.dkrz.de:80/wpsoutputs/pywps-f51ca286-db8b-11e3-9347-d25f2d6b8739.xml)\n",
        "Execution status=ProcessStarted\n",
        "Percent completed=55\n",
        "Status message=processstarted looping files : /var/lib/pywps/temp/pywps-instancehMAVsD/pywpsInputf6tEvC \n",
        "Sleeping 3 seconds...\n",
        "Execution status: ProcessStarted"
       ]
      },
      {
       "output_type": "stream",
       "stream": "stdout",
       "text": [
        "\n",
        "\n",
        "Checking execution status... (location=http://mouflon.dkrz.de:80/wpsoutputs/pywps-f51ca286-db8b-11e3-9347-d25f2d6b8739.xml)\n",
        "Execution status=ProcessStarted\n",
        "Percent completed=80\n",
        "Status message=processstarted mean and percentiles done \n",
        "Sleeping 3 seconds...\n",
        "Execution status: ProcessStarted"
       ]
      },
      {
       "output_type": "stream",
       "stream": "stdout",
       "text": [
        "\n",
        "\n",
        "Checking execution status... (location=http://mouflon.dkrz.de:80/wpsoutputs/pywps-f51ca286-db8b-11e3-9347-d25f2d6b8739.xml)\n",
        "Execution status=ProcessSucceeded\n",
        "Percent completed=80\n",
        "Status message=PyWPS Process de.csc.visualisation.worker successfully calculated\n",
        "Execution status: ProcessSucceeded\n",
        "Output URL=http://mouflon.dkrz.de:80/wpsoutputs/output-f51ca286-db8b-11e3-9347-d25f2d6b8739.html\n"
       ]
      }
     ],
     "prompt_number": 2
    },
    {
     "cell_type": "code",
     "collapsed": false,
     "input": [
      "o = execute.processOutputs[0]\n",
      "print o.reference\n"
     ],
     "language": "python",
     "metadata": {},
     "outputs": [
      {
       "output_type": "stream",
       "stream": "stdout",
       "text": [
        "http://mouflon.dkrz.de:80/wpsoutputs/output-f51ca286-db8b-11e3-9347-d25f2d6b8739.html\n"
       ]
      }
     ],
     "prompt_number": 3
    },
    {
     "cell_type": "code",
     "collapsed": false,
     "input": [],
     "language": "python",
     "metadata": {},
     "outputs": []
    }
   ],
   "metadata": {}
  }
 ]
}