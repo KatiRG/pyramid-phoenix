{
 "metadata": {
  "name": "",
  "signature": "sha256:db19cf9eee96fa82eee2987cf960ff6ccbd8b72220463ef6b002093fb2cc6405"
 },
 "nbformat": 3,
 "nbformat_minor": 0,
 "worksheets": [
  {
   "cells": [
    {
     "cell_type": "heading",
     "level": 1,
     "metadata": {},
     "source": [
      "Tutorial: Visualisation of temperature (tas)"
     ]
    },
    {
     "cell_type": "code",
     "collapsed": false,
     "input": [
      "from owslib.wps import WebProcessingService, monitorExecution\n",
      "wps = WebProcessingService(url=\"https://mouflon.dkrz.de/wps\", verbose=False)\n"
     ],
     "language": "python",
     "metadata": {},
     "outputs": [],
     "prompt_number": 1
    },
    {
     "cell_type": "code",
     "collapsed": false,
     "input": [
      "# generate temperature (tas) plot of netcdf file\n",
      "execute = wps.execute(\n",
      "    identifier=\"de.csc.visualisation.worker\",\n",
      "    inputs=[\n",
      "    (\"variable\", \"tas\"),\n",
      "    (\"file_identifier\",\n",
      "     \"https://mouflon.dkrz.de/wpsoutputs/tutorial/tas_EUR-11_MPI-M-MPI-ESM-LR_historical_r1i1p1_SMHI-RCA4_v1_day_19700101-19701231.nc\"),\n",
      "    ],\n",
      "    output=[(\"output\", True)])\n",
      "\n",
      "# check process if completed ...\n",
      "monitorExecution(execute, sleepSecs=5)\n",
      "\n"
     ],
     "language": "python",
     "metadata": {},
     "outputs": [
      {
       "output_type": "stream",
       "stream": "stdout",
       "text": [
        "Executing WPS request...\n",
        "Execution status=ProcessAccepted"
       ]
      },
      {
       "output_type": "stream",
       "stream": "stdout",
       "text": [
        "\n",
        "Percent completed=0\n",
        "Status message=Process de.csc.visualisation.worker accepted\n",
        "\n",
        "Checking execution status... (location=http://mouflon.dkrz.de:80/wpsoutputs/pywps-77f7b42a-dd1c-11e3-a1a3-d25f2d6b8739.xml)\n",
        "Execution status=ProcessAccepted\n",
        "Percent completed=0\n",
        "Status message=Process de.csc.visualisation.worker accepted\n",
        "Sleeping 5 seconds...\n",
        "Execution status: ProcessAccepted"
       ]
      },
      {
       "output_type": "stream",
       "stream": "stdout",
       "text": [
        "\n",
        "\n",
        "Checking execution status... (location=http://mouflon.dkrz.de:80/wpsoutputs/pywps-77f7b42a-dd1c-11e3-a1a3-d25f2d6b8739.xml)\n",
        "Execution status=ProcessPaused\n",
        "Percent completed=0\n",
        "Status message=Getting input file_identifier of process de.csc.visualisation.worker\n",
        "Sleeping 5 seconds...\n",
        "Execution status: ProcessPaused"
       ]
      },
      {
       "output_type": "stream",
       "stream": "stdout",
       "text": [
        "\n",
        "\n",
        "Checking execution status... (location=http://mouflon.dkrz.de:80/wpsoutputs/pywps-77f7b42a-dd1c-11e3-a1a3-d25f2d6b8739.xml)\n",
        "Execution status=ProcessStarted\n",
        "Percent completed=55\n",
        "Status message=processstarted len strDate : 365 \n",
        "Sleeping 5 seconds...\n",
        "Execution status: ProcessStarted"
       ]
      },
      {
       "output_type": "stream",
       "stream": "stdout",
       "text": [
        "\n",
        "\n",
        "Checking execution status... (location=http://mouflon.dkrz.de:80/wpsoutputs/pywps-77f7b42a-dd1c-11e3-a1a3-d25f2d6b8739.xml)\n",
        "Execution status=ProcessSucceeded\n",
        "Percent completed=55\n",
        "Status message=PyWPS Process de.csc.visualisation.worker successfully calculated\n",
        "Execution status: ProcessSucceeded\n",
        "Output URL=http://mouflon.dkrz.de:80/wpsoutputs/output-77f7b42a-dd1c-11e3-a1a3-d25f2d6b8739.html\n"
       ]
      }
     ],
     "prompt_number": 3
    },
    {
     "cell_type": "code",
     "collapsed": false,
     "input": [
      "# print output url ...\n",
      "o = execute.processOutputs[0]\n",
      "print o.reference\n",
      "\n"
     ],
     "language": "python",
     "metadata": {},
     "outputs": [
      {
       "output_type": "stream",
       "stream": "stdout",
       "text": [
        "http://mouflon.dkrz.de:80/wpsoutputs/output-77f7b42a-dd1c-11e3-a1a3-d25f2d6b8739.html\n"
       ]
      }
     ],
     "prompt_number": 4
    },
    {
     "cell_type": "code",
     "collapsed": false,
     "input": [
      "# generate tas plot for three netcdf files (ensemble)\n",
      "execute = wps.execute(\n",
      "    identifier=\"de.csc.visualisation.worker\",\n",
      "    inputs=[\n",
      "    (\"variable\", \"tas\"),\n",
      "    (\"file_identifier\",\n",
      "     \"https://mouflon.dkrz.de/wpsoutputs/tutorial/tas_day_MPI-ESM-LR_historical_r1i1p1_20000101-20051231.nc\"),\n",
      "    (\"file_identifier\",\n",
      "     \"https://mouflon.dkrz.de/wpsoutputs/tutorial/tas_day_MPI-ESM-LR_historical_r2i1p1_20000101-20051231.nc\"),\n",
      "    (\"file_identifier\",\n",
      "     \"https://mouflon.dkrz.de/wpsoutputs/tutorial/tas_day_MPI-ESM-LR_historical_r3i1p1_20000101-20051231.nc\")\n",
      "    ],\n",
      "    output=[(\"output\", True)])\n",
      "\n",
      "# check process if completed ...\n",
      "monitorExecution(execute, sleepSecs=5)"
     ],
     "language": "python",
     "metadata": {},
     "outputs": [
      {
       "output_type": "stream",
       "stream": "stdout",
       "text": [
        "Executing WPS request...\n",
        "Execution status=ProcessAccepted"
       ]
      },
      {
       "output_type": "stream",
       "stream": "stdout",
       "text": [
        "\n",
        "Percent completed=0\n",
        "Status message=Process de.csc.visualisation.worker accepted\n",
        "\n",
        "Checking execution status... (location=http://mouflon.dkrz.de:80/wpsoutputs/pywps-ac3cc7b6-dd1c-11e3-b428-d25f2d6b8739.xml)\n",
        "Execution status=ProcessAccepted\n",
        "Percent completed=0\n",
        "Status message=Process de.csc.visualisation.worker accepted\n",
        "Sleeping 5 seconds...\n",
        "Execution status: ProcessAccepted"
       ]
      },
      {
       "output_type": "stream",
       "stream": "stdout",
       "text": [
        "\n",
        "\n",
        "Checking execution status... (location=http://mouflon.dkrz.de:80/wpsoutputs/pywps-ac3cc7b6-dd1c-11e3-b428-d25f2d6b8739.xml)\n",
        "Execution status=ProcessPaused\n",
        "Percent completed=0\n",
        "Status message=Getting input file_identifier of process de.csc.visualisation.worker\n",
        "Sleeping 5 seconds...\n",
        "Execution status: ProcessPaused"
       ]
      },
      {
       "output_type": "stream",
       "stream": "stdout",
       "text": [
        "\n",
        "\n",
        "Checking execution status... (location=http://mouflon.dkrz.de:80/wpsoutputs/pywps-ac3cc7b6-dd1c-11e3-b428-d25f2d6b8739.xml)\n",
        "Execution status=ProcessPaused\n",
        "Percent completed=0\n",
        "Status message=Getting input file_identifier of process de.csc.visualisation.worker\n",
        "Sleeping 5 seconds...\n",
        "Execution status: ProcessPaused"
       ]
      },
      {
       "output_type": "stream",
       "stream": "stdout",
       "text": [
        "\n",
        "\n",
        "Checking execution status... (location=http://mouflon.dkrz.de:80/wpsoutputs/pywps-ac3cc7b6-dd1c-11e3-b428-d25f2d6b8739.xml)\n",
        "Execution status=ProcessPaused\n",
        "Percent completed=0\n",
        "Status message=Getting input file_identifier of process de.csc.visualisation.worker\n",
        "Sleeping 5 seconds...\n",
        "Execution status: ProcessPaused"
       ]
      },
      {
       "output_type": "stream",
       "stream": "stdout",
       "text": [
        "\n",
        "\n",
        "Checking execution status... (location=http://mouflon.dkrz.de:80/wpsoutputs/pywps-ac3cc7b6-dd1c-11e3-b428-d25f2d6b8739.xml)\n",
        "Execution status=ProcessPaused\n",
        "Percent completed=0\n",
        "Status message=Getting input file_identifier of process de.csc.visualisation.worker\n",
        "Sleeping 5 seconds...\n",
        "Execution status: ProcessPaused"
       ]
      },
      {
       "output_type": "stream",
       "stream": "stdout",
       "text": [
        "\n",
        "\n",
        "Checking execution status... (location=http://mouflon.dkrz.de:80/wpsoutputs/pywps-ac3cc7b6-dd1c-11e3-b428-d25f2d6b8739.xml)\n",
        "Execution status=ProcessStarted\n",
        "Percent completed=10\n",
        "Status message=processstarted looping files : /var/lib/pywps/temp/pywps-instance4IuG4G/pywpsInputAMPIFI \n",
        "Sleeping 5 seconds...\n",
        "Execution status: ProcessStarted"
       ]
      },
      {
       "output_type": "stream",
       "stream": "stdout",
       "text": [
        "\n",
        "\n",
        "Checking execution status... (location=http://mouflon.dkrz.de:80/wpsoutputs/pywps-ac3cc7b6-dd1c-11e3-b428-d25f2d6b8739.xml)\n",
        "Execution status=ProcessStarted\n",
        "Percent completed=55\n",
        "Status message=processstarted len strDate : 2192 \n",
        "Sleeping 5 seconds...\n",
        "Execution status: ProcessStarted"
       ]
      },
      {
       "output_type": "stream",
       "stream": "stdout",
       "text": [
        "\n",
        "\n",
        "Checking execution status... (location=http://mouflon.dkrz.de:80/wpsoutputs/pywps-ac3cc7b6-dd1c-11e3-b428-d25f2d6b8739.xml)\n",
        "Execution status=ProcessSucceeded\n",
        "Percent completed=55\n",
        "Status message=PyWPS Process de.csc.visualisation.worker successfully calculated\n",
        "Execution status: ProcessSucceeded\n",
        "Output URL=http://mouflon.dkrz.de:80/wpsoutputs/output-ac3cc7b6-dd1c-11e3-b428-d25f2d6b8739.html\n"
       ]
      }
     ]
    },
    {
     "cell_type": "code",
     "collapsed": false,
     "input": [
      "# print output url ...\n",
      "o = execute.processOutputs[0]\n",
      "print o.reference"
     ],
     "language": "python",
     "metadata": {},
     "outputs": []
    },
    {
     "cell_type": "code",
     "collapsed": false,
     "input": [],
     "language": "python",
     "metadata": {},
     "outputs": []
    }
   ],
   "metadata": {}
  }
 ]
}