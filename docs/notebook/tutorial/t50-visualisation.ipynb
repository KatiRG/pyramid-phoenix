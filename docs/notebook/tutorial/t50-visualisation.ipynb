{
 "metadata": {
  "name": "",
  "signature": "sha256:3d5aa093b1c7cb721158853292d4ad4b144710982db6811340fa711a30a1ae28"
 },
 "nbformat": 3,
 "nbformat_minor": 0,
 "worksheets": [
  {
   "cells": [
    {
     "cell_type": "heading",
     "level": 1,
     "metadata": {},
     "source": [
      "Tutorial: Visualisation of temperature (tas)"
     ]
    },
    {
     "cell_type": "code",
     "collapsed": false,
     "input": [
      "from owslib.wps import WebProcessingService, monitorExecution\n",
      "wps = WebProcessingService(url=\"http://localhost:8093/wps\", verbose=False)\n"
     ],
     "language": "python",
     "metadata": {},
     "outputs": [],
     "prompt_number": 1
    },
    {
     "cell_type": "code",
     "collapsed": false,
     "input": [
      "# generate temperature (tas) plot of netcdf file\n",
      "execute = wps.execute(\n",
      "    identifier=\"visualisation\",\n",
      "    inputs=[\n",
      "    (\"variable\", \"tas\"),\n",
      "    (\"netcdf_file\",\n",
      "     \"https://mouflon.dkrz.de/thredds/fileServer/test/wpscache/tas_WAS-44i_MPI-M-MPI-ESM-LR_historical_r1i1p1_MPI-CSC-REMO2009_v1_mon_200101-200512.nc\")],\n",
      "    output=[(\"output\", True)])\n",
      "\n",
      "# check process if completed ...\n",
      "monitorExecution(execute, sleepSecs=5)\n",
      "\n"
     ],
     "language": "python",
     "metadata": {},
     "outputs": [
      {
       "output_type": "stream",
       "stream": "stdout",
       "text": [
        "Executing WPS request...\n",
        "Execution status=ProcessAccepted"
       ]
      },
      {
       "output_type": "stream",
       "stream": "stdout",
       "text": [
        "\n",
        "Percent completed=0\n",
        "Status message=Process visualisation accepted\n",
        "\n",
        "Checking execution status... (location=http://localhost:8090/wpsoutputs/pidgeon/pywps-2cbfa012-31ef-11e4-ad3d-ecf4bb9a61a2.xml)\n",
        "Execution status=ProcessAccepted\n",
        "Percent completed=0\n",
        "Status message=Process visualisation accepted\n",
        "Sleeping 5 seconds...\n",
        "Execution status: ProcessAccepted"
       ]
      },
      {
       "output_type": "stream",
       "stream": "stdout",
       "text": [
        "\n",
        "\n",
        "Checking execution status... (location=http://localhost:8090/wpsoutputs/pidgeon/pywps-2cbfa012-31ef-11e4-ad3d-ecf4bb9a61a2.xml)\n",
        "Execution status=ProcessSucceeded\n",
        "Percent completed=0\n",
        "Status message=PyWPS Process visualisation successfully calculated\n",
        "Execution status: ProcessSucceeded\n",
        "Output URL=http://localhost:8090/wpsoutputs/pidgeon/output-2cbfa012-31ef-11e4-ad3d-ecf4bb9a61a2.html\n"
       ]
      }
     ],
     "prompt_number": 3
    },
    {
     "cell_type": "code",
     "collapsed": false,
     "input": [
      "# print output url ...\n",
      "o = execute.processOutputs[0]\n",
      "print o.reference\n",
      "\n"
     ],
     "language": "python",
     "metadata": {},
     "outputs": [
      {
       "output_type": "stream",
       "stream": "stdout",
       "text": [
        "http://localhost:8090/wpsoutputs/pidgeon/output-2cbfa012-31ef-11e4-ad3d-ecf4bb9a61a2.html\n"
       ]
      }
     ],
     "prompt_number": 4
    },
    {
     "cell_type": "code",
     "collapsed": false,
     "input": [
      "# generate tas plot for three netcdf files (ensemble)\n",
      "execute = wps.execute(\n",
      "    identifier=\"visualisation\",\n",
      "    inputs=[\n",
      "    (\"variable\", \"tas\"),\n",
      "    (\"netcdf_file\",\n",
      "     \"https://mouflon.dkrz.de/thredds/fileServer/test/wpscache/tas_EUR-44_ICHEC-EC-EARTH_rcp26_r12i1p1_SMHI-RCA4_v1_mon_200601-201012.nc\"),\n",
      "    (\"netcdf_file\",\n",
      "     \"https://mouflon.dkrz.de/thredds/fileServer/test/wpscache/tas_EUR-44_ICHEC-EC-EARTH_historical_r3i1p1_DMI-HIRHAM5_v1_mon_200101-200512.nc\")\n",
      "    ],\n",
      "    output=[(\"output\", True)])\n",
      "\n",
      "# check process if completed ...\n",
      "monitorExecution(execute, sleepSecs=5)"
     ],
     "language": "python",
     "metadata": {},
     "outputs": [
      {
       "output_type": "stream",
       "stream": "stdout",
       "text": [
        "Executing WPS request...\n",
        "Execution status=ProcessAccepted"
       ]
      },
      {
       "output_type": "stream",
       "stream": "stdout",
       "text": [
        "\n",
        "Percent completed=0\n",
        "Status message=Process visualisation accepted\n",
        "\n",
        "Checking execution status... (location=http://localhost:8090/wpsoutputs/pidgeon/pywps-e58e639e-31ef-11e4-9a83-ecf4bb9a61a2.xml)\n",
        "Execution status=ProcessAccepted\n",
        "Percent completed=0\n",
        "Status message=Process visualisation accepted\n",
        "Sleeping 5 seconds...\n",
        "Execution status: ProcessAccepted"
       ]
      },
      {
       "output_type": "stream",
       "stream": "stdout",
       "text": [
        "\n",
        "\n",
        "Checking execution status... (location=http://localhost:8090/wpsoutputs/pidgeon/pywps-e58e639e-31ef-11e4-9a83-ecf4bb9a61a2.xml)\n",
        "Execution status=ProcessSucceeded\n",
        "Percent completed=0\n",
        "Status message=PyWPS Process visualisation successfully calculated\n",
        "Execution status: ProcessSucceeded\n",
        "Output URL=http://localhost:8090/wpsoutputs/pidgeon/output-e58e639e-31ef-11e4-9a83-ecf4bb9a61a2.html\n"
       ]
      }
     ],
     "prompt_number": 5
    },
    {
     "cell_type": "code",
     "collapsed": false,
     "input": [
      "# print output url ...\n",
      "o = execute.processOutputs[0]\n",
      "print o.reference"
     ],
     "language": "python",
     "metadata": {},
     "outputs": [
      {
       "output_type": "stream",
       "stream": "stdout",
       "text": [
        "http://localhost:8090/wpsoutputs/pidgeon/output-e58e639e-31ef-11e4-9a83-ecf4bb9a61a2.html\n"
       ]
      }
     ],
     "prompt_number": 6
    },
    {
     "cell_type": "code",
     "collapsed": false,
     "input": [],
     "language": "python",
     "metadata": {},
     "outputs": []
    }
   ],
   "metadata": {}
  }
 ]
}