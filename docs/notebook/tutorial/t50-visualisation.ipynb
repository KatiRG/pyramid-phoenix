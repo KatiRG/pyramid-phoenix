{
 "metadata": {
  "name": "",
  "signature": "sha256:eb7af6f7112d064204d61470eae85256dbe620a5cca15a8405117c9667060d9c"
 },
 "nbformat": 3,
 "nbformat_minor": 0,
 "worksheets": [
  {
   "cells": [
    {
     "cell_type": "heading",
     "level": 1,
     "metadata": {},
     "source": [
      "Tutorial: Visualisation of temperature (tas)"
     ]
    },
    {
     "cell_type": "code",
     "collapsed": false,
     "input": [
      "from owslib.wps import WebProcessingService, monitorExecution\n",
      "wps = WebProcessingService(url=\"https://mouflon.dkrz.de/wps\", verbose=False, skip_caps=False)\n"
     ],
     "language": "python",
     "metadata": {},
     "outputs": [],
     "prompt_number": 1
    },
    {
     "cell_type": "code",
     "collapsed": false,
     "input": [
      "# execute wordcount process with chomsky as input\n",
      "execute = wps.execute(\n",
      "    identifier=\"de.csc.visualisation.worker\",\n",
      "    inputs=[\n",
      "    (\"variable\", \"tas\"),\n",
      "    (\"file_identifier\", \"https://mouflon.dkrz.de/wpsoutputs/tutorial/tas_EUR-11_MPI-M-MPI-ESM-LR_historical_r1i1p1_SMHI-RCA4_v1_day_19700101-19701231.nc\")],\n",
      "    output=[(\"output\", True)])\n",
      "\n",
      "# check process if completed ...\n",
      "monitorExecution(execute, sleepSecs=10)\n",
      "\n",
      "\n"
     ],
     "language": "python",
     "metadata": {},
     "outputs": [
      {
       "output_type": "stream",
       "stream": "stdout",
       "text": [
        "Executing WPS request...\n",
        "Execution status=ProcessAccepted"
       ]
      },
      {
       "output_type": "stream",
       "stream": "stdout",
       "text": [
        "\n",
        "\n",
        "Checking execution status... (location=http://mouflon.dkrz.de:80/wpsoutputs/pywps-0b7cec44-dba4-11e3-bbf7-d25f2d6b8739.xml)\n",
        "Execution status=ProcessStarted\n",
        "Percent completed=55\n",
        "Status message=processstarted looping files : /var/lib/pywps/temp/pywps-instanceysCKBQ/pywpsInputZ_KEBh \n",
        "Sleeping 10 seconds...\n",
        "Execution status: ProcessStarted"
       ]
      },
      {
       "output_type": "stream",
       "stream": "stdout",
       "text": [
        "\n",
        "\n",
        "Checking execution status... (location=http://mouflon.dkrz.de:80/wpsoutputs/pywps-0b7cec44-dba4-11e3-bbf7-d25f2d6b8739.xml)\n",
        "Execution status=ProcessSucceeded\n",
        "Percent completed=55\n",
        "Status message=PyWPS Process de.csc.visualisation.worker successfully calculated\n",
        "Execution status: ProcessSucceeded\n",
        "Output URL=http://mouflon.dkrz.de:80/wpsoutputs/output-0b7cec44-dba4-11e3-bbf7-d25f2d6b8739.html\n"
       ]
      }
     ]
    },
    {
     "cell_type": "code",
     "collapsed": false,
     "input": [
      "o = execute.processOutputs[0]\n",
      "print o.reference\n"
     ],
     "language": "python",
     "metadata": {},
     "outputs": [
      {
       "output_type": "stream",
       "stream": "stdout",
       "text": [
        "http://mouflon.dkrz.de:80/wpsoutputs/output-7f3122a0-dba3-11e3-a899-d25f2d6b8739.html\n"
       ]
      }
     ],
     "prompt_number": 3
    },
    {
     "cell_type": "code",
     "collapsed": false,
     "input": [],
     "language": "python",
     "metadata": {},
     "outputs": []
    }
   ],
   "metadata": {}
  }
 ]
}