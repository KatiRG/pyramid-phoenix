{
 "metadata": {
  "name": "",
  "signature": "sha256:d6fc1a34b7b2094344bff8369ae8b588a40944965b287862382efc96f9f97000"
 },
 "nbformat": 3,
 "nbformat_minor": 0,
 "worksheets": [
  {
   "cells": [
    {
     "cell_type": "heading",
     "level": 1,
     "metadata": {},
     "source": [
      "Tutorial: WPS with complex input and output type"
     ]
    },
    {
     "cell_type": "markdown",
     "metadata": {},
     "source": [
      "Template for execute request"
     ]
    },
    {
     "cell_type": "code",
     "collapsed": false,
     "input": [
      "req_url = \"{wps_url}?\" +\\\n",
      "    \"request=Execute\" +\\\n",
      "    \"&service=WPS\" +\\\n",
      "    \"&version=1.0.0\" +\\\n",
      "    \"&identifier={identifier}\" +\\\n",
      "    \"&DataInputs={inputs}\" +\\\n",
      "    \"&ResponseDocument={outputs}\" +\\\n",
      "    \"&storeExecuteResponse=false\" +\\\n",
      "    \"&status=false\""
     ],
     "language": "python",
     "metadata": {},
     "outputs": [],
     "prompt_number": 5
    },
    {
     "cell_type": "code",
     "collapsed": false,
     "input": [
      "import urllib"
     ],
     "language": "python",
     "metadata": {},
     "outputs": [],
     "prompt_number": 6
    },
    {
     "cell_type": "markdown",
     "metadata": {},
     "source": [
      "Input text given directly as argument ..."
     ]
    },
    {
     "cell_type": "code",
     "collapsed": false,
     "input": [
      "text=\"\"\"\n",
      "i very short text with \n",
      "multiple lines.\n",
      "\"\"\"\n",
      "\n",
      "url=req_url.format(\n",
      "    wps_url=\"http://localhost:8090/wps\",\n",
      "    identifier=\"org.malleefowl.test.wordcount\", \n",
      "    inputs=\"text=%s\" % (urllib.quote(text)),\n",
      "    outputs=\"output\")\n",
      "print url  "
     ],
     "language": "python",
     "metadata": {},
     "outputs": [
      {
       "output_type": "stream",
       "stream": "stdout",
       "text": [
        "http://localhost:8090/wps?request=Execute&service=WPS&version=1.0.0&identifier=org.malleefowl.test.wordcount&DataInputs=text=%0Ai%20very%20short%20text%20with%20%0Amultiple%20lines.%0A&ResponseDocument=output&storeExecuteResponse=false&status=false\n"
       ]
      }
     ],
     "prompt_number": 7
    },
    {
     "cell_type": "markdown",
     "metadata": {},
     "source": [
      "Input text given as url ..."
     ]
    },
    {
     "cell_type": "code",
     "collapsed": false,
     "input": [
      "text_url=\"https://gnu.org/licenses/gpl-3.0.txt\"\n",
      "\n",
      "url=req_url.format(\n",
      "    wps_url=\"http://localhost:8090/wps\",\n",
      "    identifier=\"org.malleefowl.test.wordcount\", \n",
      "    inputs=\"text=%s\" % (urllib.quote(text_url)),\n",
      "    outputs=\"output\")\n",
      "print url  "
     ],
     "language": "python",
     "metadata": {},
     "outputs": [
      {
       "output_type": "stream",
       "stream": "stdout",
       "text": [
        "http://localhost:8090/wps?request=Execute&service=WPS&version=1.0.0&identifier=org.malleefowl.test.wordcount&DataInputs=text=https%3A//gnu.org/licenses/gpl-3.0.txt&ResponseDocument=output&storeExecuteResponse=false&status=false\n"
       ]
      }
     ],
     "prompt_number": 10
    },
    {
     "cell_type": "code",
     "collapsed": false,
     "input": [],
     "language": "python",
     "metadata": {},
     "outputs": [],
     "prompt_number": 4
    },
    {
     "cell_type": "code",
     "collapsed": false,
     "input": [],
     "language": "python",
     "metadata": {},
     "outputs": []
    }
   ],
   "metadata": {}
  }
 ]
}