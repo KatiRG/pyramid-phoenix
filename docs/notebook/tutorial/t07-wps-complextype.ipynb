{
 "metadata": {
  "name": "",
  "signature": "sha256:eed69fd7aace57aebb0f0071c8b0af57b5a422cf20407bbb8c688abee2f463c1"
 },
 "nbformat": 3,
 "nbformat_minor": 0,
 "worksheets": [
  {
   "cells": [
    {
     "cell_type": "heading",
     "level": 1,
     "metadata": {},
     "source": [
      "Tutorial: WPS with complex input and output type"
     ]
    },
    {
     "cell_type": "markdown",
     "metadata": {},
     "source": [
      "Template for execute request"
     ]
    },
    {
     "cell_type": "code",
     "collapsed": false,
     "input": [
      "execute_url = \"{wps_url}?\" +\\\n",
      "    \"request=Execute\" +\\\n",
      "    \"&service=WPS\" +\\\n",
      "    \"&version=1.0.0\" +\\\n",
      "    \"&identifier={identifier}\" +\\\n",
      "    \"&DataInputs={inputs}\" +\\\n",
      "    \"&ResponseDocument={outputs}\" +\\\n",
      "    \"&storeExecuteResponse=false\" +\\\n",
      "    \"&status=false\"\n",
      "    "
     ],
     "language": "python",
     "metadata": {},
     "outputs": [],
     "prompt_number": 9
    },
    {
     "cell_type": "markdown",
     "metadata": {},
     "source": [
      "Our WPS server on mouflon and the *wordcount* process"
     ]
    },
    {
     "cell_type": "code",
     "collapsed": false,
     "input": [
      "wps = \"https://mouflon.dkrz.de/wps\"\n",
      "wordcount = \"org.malleefowl.test.wordcount\""
     ],
     "language": "python",
     "metadata": {},
     "outputs": [],
     "prompt_number": 10
    },
    {
     "cell_type": "markdown",
     "metadata": {},
     "source": [
      "Template for describe process ..."
     ]
    },
    {
     "cell_type": "code",
     "collapsed": false,
     "input": [
      "describe_url = \"{wps_url}?\" +\\\n",
      "        \"&request=DescribeProcess\" +\\\n",
      "        \"&service=WPS\" +\\\n",
      "        \"&version=1.0.0\" +\\\n",
      "        \"&identifier={identifier}\""
     ],
     "language": "python",
     "metadata": {},
     "outputs": [],
     "prompt_number": 11
    },
    {
     "cell_type": "markdown",
     "metadata": {},
     "source": [
      "Describe *wordcount* process"
     ]
    },
    {
     "cell_type": "code",
     "collapsed": false,
     "input": [
      "url=describe_url.format(\n",
      "    wps_url=wps,\n",
      "    identifier=wordcount, \n",
      "    inputs=\"text=%s\" % (urllib.quote(text)),\n",
      "    outputs=\"output\")\n",
      "print url "
     ],
     "language": "python",
     "metadata": {},
     "outputs": [
      {
       "output_type": "stream",
       "stream": "stdout",
       "text": [
        "https://mouflon.dkrz.de/wps?&request=DescribeProcess&service=WPS&version=1.0.0&identifier=org.malleefowl.test.wordcount\n"
       ]
      }
     ],
     "prompt_number": 12
    },
    {
     "cell_type": "code",
     "collapsed": false,
     "input": [
      "import urllib"
     ],
     "language": "python",
     "metadata": {},
     "outputs": [],
     "prompt_number": 13
    },
    {
     "cell_type": "markdown",
     "metadata": {},
     "source": [
      "Input text given directly as argument ..."
     ]
    },
    {
     "cell_type": "code",
     "collapsed": false,
     "input": [
      "text=\"\"\"\n",
      "i very short text with \n",
      "multiple lines.\n",
      "\"\"\"\n",
      "\n",
      "url=execute_url.format(\n",
      "    wps_url=wps,\n",
      "    identifier=wordcount, \n",
      "    inputs=\"text=%s\" % (urllib.quote(text)),\n",
      "    outputs=\"output\")\n",
      "print url  "
     ],
     "language": "python",
     "metadata": {},
     "outputs": [
      {
       "output_type": "stream",
       "stream": "stdout",
       "text": [
        "https://mouflon.dkrz.de/wps?request=Execute&service=WPS&version=1.0.0&identifier=org.malleefowl.test.wordcount&DataInputs=text=%0Ai%20very%20short%20text%20with%20%0Amultiple%20lines.%0A&ResponseDocument=output&storeExecuteResponse=false&status=false\n"
       ]
      }
     ],
     "prompt_number": 15
    },
    {
     "cell_type": "markdown",
     "metadata": {},
     "source": [
      "Input text given as url ..."
     ]
    },
    {
     "cell_type": "code",
     "collapsed": false,
     "input": [
      "text_url=\"https://gnu.org/licenses/gpl-3.0.txt\"\n",
      "\n",
      "url=req_url.format(\n",
      "    wps_url=wps,\n",
      "    identifier=wordcount, \n",
      "    inputs=\"text=%s\" % (urllib.quote(text_url)),\n",
      "    outputs=\"output\")\n",
      "print url  "
     ],
     "language": "python",
     "metadata": {},
     "outputs": [
      {
       "output_type": "stream",
       "stream": "stdout",
       "text": [
        "https://mouflon.dkrz.de/wps?request=Execute&service=WPS&version=1.0.0&identifier=org.malleefowl.test.wordcount&DataInputs=text=https%3A//gnu.org/licenses/gpl-3.0.txt&ResponseDocument=output&storeExecuteResponse=false&status=false\n"
       ]
      }
     ],
     "prompt_number": 16
    },
    {
     "cell_type": "code",
     "collapsed": false,
     "input": [],
     "language": "python",
     "metadata": {},
     "outputs": [],
     "prompt_number": 4
    },
    {
     "cell_type": "code",
     "collapsed": false,
     "input": [],
     "language": "python",
     "metadata": {},
     "outputs": []
    }
   ],
   "metadata": {}
  }
 ]
}