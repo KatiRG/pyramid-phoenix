{
 "metadata": {
  "name": "",
  "signature": "sha256:43273e936cf7a41f6cd1aa9ecef7d7d573d574a882563ed3d819fdc983c4a7f1"
 },
 "nbformat": 3,
 "nbformat_minor": 0,
 "worksheets": [
  {
   "cells": [
    {
     "cell_type": "heading",
     "level": 1,
     "metadata": {},
     "source": [
      "Tutorial: WPS with complex input and output type"
     ]
    },
    {
     "cell_type": "markdown",
     "metadata": {},
     "source": [
      "Template for execute request"
     ]
    },
    {
     "cell_type": "code",
     "collapsed": false,
     "input": [
      "req_url = \"{wps_url}?\" +\\\n",
      "    \"request=Execute\" +\\\n",
      "    \"&service=WPS\" +\\\n",
      "    \"&version=1.0.0\" +\\\n",
      "    \"&identifier={identifier}\" +\\\n",
      "    \"&DataInputs={inputs}\" +\\\n",
      "    \"&ResponseDocument={outputs}\" +\\\n",
      "    \"&storeExecuteResponse=false\" +\\\n",
      "    \"&status=false\"\n",
      "    "
     ],
     "language": "python",
     "metadata": {},
     "outputs": [],
     "prompt_number": 1
    },
    {
     "cell_type": "code",
     "collapsed": false,
     "input": [
      "import urllib"
     ],
     "language": "python",
     "metadata": {},
     "outputs": [],
     "prompt_number": 2
    },
    {
     "cell_type": "markdown",
     "metadata": {},
     "source": [
      "Input text given directly as argument ..."
     ]
    },
    {
     "cell_type": "code",
     "collapsed": false,
     "input": [
      "text=\"\"\"\n",
      "i very short text with \n",
      "multiple lines.\n",
      "\"\"\"\n",
      "\n",
      "url=req_url.format(\n",
      "    wps_url=\"https://mouflon.dkrz.de/wps\",\n",
      "    identifier=\"org.malleefowl.test.wordcount\", \n",
      "    inputs=\"text=%s\" % (urllib.quote(text)),\n",
      "    outputs=\"output\")\n",
      "print url  "
     ],
     "language": "python",
     "metadata": {},
     "outputs": [
      {
       "output_type": "stream",
       "stream": "stdout",
       "text": [
        "https://mouflon.dkrz.de/wps?request=Execute&service=WPS&version=1.0.0&identifier=org.malleefowl.test.wordcount&DataInputs=text=%0Ai%20very%20short%20text%20with%20%0Amultiple%20lines.%0A&ResponseDocument=output&storeExecuteResponse=false&status=false\n"
       ]
      }
     ],
     "prompt_number": 3
    },
    {
     "cell_type": "markdown",
     "metadata": {},
     "source": [
      "Input text given as url ..."
     ]
    },
    {
     "cell_type": "code",
     "collapsed": false,
     "input": [
      "text_url=\"https://gnu.org/licenses/gpl-3.0.txt\"\n",
      "\n",
      "url=req_url.format(\n",
      "    wps_url=\"https://mouflon.dkrz.de/wps\",\n",
      "    identifier=\"org.malleefowl.test.wordcount\", \n",
      "    inputs=\"text=%s\" % (urllib.quote(text_url)),\n",
      "    outputs=\"output\")\n",
      "print url  "
     ],
     "language": "python",
     "metadata": {},
     "outputs": [
      {
       "output_type": "stream",
       "stream": "stdout",
       "text": [
        "https://mouflon.dkrz.de/wps?request=Execute&service=WPS&version=1.0.0&identifier=org.malleefowl.test.wordcount&DataInputs=text=https%3A//gnu.org/licenses/gpl-3.0.txt&ResponseDocument=output&storeExecuteResponse=false&status=false\n"
       ]
      }
     ],
     "prompt_number": 4
    },
    {
     "cell_type": "code",
     "collapsed": false,
     "input": [],
     "language": "python",
     "metadata": {},
     "outputs": [],
     "prompt_number": 4
    },
    {
     "cell_type": "code",
     "collapsed": false,
     "input": [],
     "language": "python",
     "metadata": {},
     "outputs": []
    }
   ],
   "metadata": {}
  }
 ]
}