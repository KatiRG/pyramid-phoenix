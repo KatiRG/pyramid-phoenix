{
 "metadata": {
  "name": "",
  "signature": "sha256:93d426d73807ffd330debd73b08f0d62775659d913591a5df5f1a8a49c72bedd"
 },
 "nbformat": 3,
 "nbformat_minor": 0,
 "worksheets": [
  {
   "cells": [
    {
     "cell_type": "heading",
     "level": 1,
     "metadata": {},
     "source": [
      "Tutorial: WPS *DescribeProcess* request"
     ]
    },
    {
     "cell_type": "markdown",
     "metadata": {},
     "source": [
      "URL Template for *DescribeProcess* request"
     ]
    },
    {
     "cell_type": "code",
     "collapsed": false,
     "input": [
      "req_url = \"{wps_url}?\" +\\\n",
      "    \"&request=DescribeProcess\" +\\\n",
      "    \"&service=WPS\" +\\\n",
      "    \"&version=1.0.0\" +\\\n",
      "    \"&identifier={identifier}\"\n",
      "   "
     ],
     "language": "python",
     "metadata": {},
     "outputs": [],
     "prompt_number": 3
    },
    {
     "cell_type": "markdown",
     "metadata": {},
     "source": [
      "Describe *HelloWorld* process on mouflon ..."
     ]
    },
    {
     "cell_type": "code",
     "collapsed": false,
     "input": [
      "url=req_url.format(wps_url=\"http://mouflon.dkrz.de/wps\", \n",
      "                   identifier=\"org.malleefowl.test.helloworld\")\n",
      "print url"
     ],
     "language": "python",
     "metadata": {},
     "outputs": [
      {
       "output_type": "stream",
       "stream": "stdout",
       "text": [
        "http://mouflon.dkrz.de/wps?&request=DescribeProcess&service=WPS&version=1.0.0&identifier=org.malleefowl.test.helloworld\n"
       ]
      }
     ],
     "prompt_number": 4
    },
    {
     "cell_type": "markdown",
     "metadata": {},
     "source": [
      "Describe *temperatureConverter* on Plymouth Marine Laboratory WPS ..."
     ]
    },
    {
     "cell_type": "code",
     "collapsed": false,
     "input": [
      "url=req_url.format(\n",
      "    wps_url=\"http://rsg.pml.ac.uk/wps/generic.cgi\", \n",
      "    identifier=\"temperatureConverter\")\n",
      "print url"
     ],
     "language": "python",
     "metadata": {},
     "outputs": [
      {
       "output_type": "stream",
       "stream": "stdout",
       "text": [
        "http://rsg.pml.ac.uk/wps/generic.cgi?&request=DescribeProcess&service=WPS&version=1.0.0&identifier=temperatureConverter\n"
       ]
      }
     ],
     "prompt_number": 5
    },
    {
     "cell_type": "code",
     "collapsed": false,
     "input": [],
     "language": "python",
     "metadata": {},
     "outputs": []
    }
   ],
   "metadata": {}
  }
 ]
}