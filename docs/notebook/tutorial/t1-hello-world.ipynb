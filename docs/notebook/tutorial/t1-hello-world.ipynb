{
 "metadata": {
  "name": "",
  "signature": "sha256:8d8b53c04b1143627566f95985899963385581b8cbba7e4b3fe649165dfa7168"
 },
 "nbformat": 3,
 "nbformat_minor": 0,
 "worksheets": [
  {
   "cells": [
    {
     "cell_type": "heading",
     "level": 1,
     "metadata": {},
     "source": [
      "Tutorial 1 - Hello World"
     ]
    },
    {
     "cell_type": "markdown",
     "metadata": {},
     "source": [
      "Template for WPS execute request"
     ]
    },
    {
     "cell_type": "code",
     "collapsed": false,
     "input": [
      "req_url=\"{url}?request=Execute&identifier={id}&service=WPS&version=1.0.0&DataInputs={inputs}\""
     ],
     "language": "python",
     "metadata": {},
     "outputs": [],
     "prompt_number": 23
    },
    {
     "cell_type": "markdown",
     "metadata": {},
     "source": [
      "Parameters for *Hello World* request"
     ]
    },
    {
     "cell_type": "code",
     "collapsed": false,
     "input": [
      "wps_url=\"http://localhost:8090/wps\"\n",
      "identifier=\"org.malleefowl.test.helloworld\"\n",
      "data_inputs=\"user=Pingu\""
     ],
     "language": "python",
     "metadata": {},
     "outputs": [],
     "prompt_number": 24
    },
    {
     "cell_type": "markdown",
     "metadata": {},
     "source": [
      "Build wps request url ..."
     ]
    },
    {
     "cell_type": "code",
     "collapsed": false,
     "input": [
      "url=req_url.format(url=wps_url, id=identifier, inputs=data_inputs)"
     ],
     "language": "python",
     "metadata": {},
     "outputs": [],
     "prompt_number": 25
    },
    {
     "cell_type": "markdown",
     "metadata": {},
     "source": [
      "Display request url ... try it :)"
     ]
    },
    {
     "cell_type": "code",
     "collapsed": false,
     "input": [
      "print url"
     ],
     "language": "python",
     "metadata": {},
     "outputs": [
      {
       "output_type": "stream",
       "stream": "stdout",
       "text": [
        "http://localhost:8090/wps?request=Execute&identifier=org.malleefowl.test.helloworld&service=WPS&version=1.0.0&DataInputs=user=Pingu\n"
       ]
      }
     ],
     "prompt_number": 26
    },
    {
     "cell_type": "code",
     "collapsed": false,
     "input": [],
     "language": "python",
     "metadata": {},
     "outputs": []
    }
   ],
   "metadata": {}
  }
 ]
}