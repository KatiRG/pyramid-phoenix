{
 "metadata": {
  "name": "",
  "signature": "sha256:cd29d39cd74bf2c525c7300d0820f86ee39e1133b7ebe60aa5e495d61ab0a825"
 },
 "nbformat": 3,
 "nbformat_minor": 0,
 "worksheets": [
  {
   "cells": [
    {
     "cell_type": "heading",
     "level": 1,
     "metadata": {},
     "source": [
      "Tutorial 2: WPS GetCapabilities Request"
     ]
    },
    {
     "cell_type": "markdown",
     "metadata": {},
     "source": [
      "URL for the *GetCapabilities* request"
     ]
    },
    {
     "cell_type": "code",
     "collapsed": false,
     "input": [
      "req_url = \"http://mouflon.dkrz.de/wps?\" +\\\n",
      "    \"&request=GetCapabilities\" +\\\n",
      "    \"&service=WPS\" +\\\n",
      "    \"&version=1.0.0\""
     ],
     "language": "python",
     "metadata": {},
     "outputs": [],
     "prompt_number": 3
    },
    {
     "cell_type": "markdown",
     "metadata": {},
     "source": [
      "Display url and try it ..."
     ]
    },
    {
     "cell_type": "code",
     "collapsed": false,
     "input": [
      "print req_url"
     ],
     "language": "python",
     "metadata": {},
     "outputs": [
      {
       "output_type": "stream",
       "stream": "stdout",
       "text": [
        "http://mouflon.dkrz.de/wps?&request=GetCapabilities&service=WPS&version=1.0.0\n"
       ]
      }
     ],
     "prompt_number": 5
    },
    {
     "cell_type": "code",
     "collapsed": false,
     "input": [],
     "language": "python",
     "metadata": {},
     "outputs": []
    }
   ],
   "metadata": {}
  }
 ]
}