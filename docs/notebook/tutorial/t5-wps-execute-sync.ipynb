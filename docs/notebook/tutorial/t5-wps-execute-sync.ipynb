{
 "metadata": {
  "name": "",
  "signature": "sha256:7ebaa4d727974da86a13dc61c9afcec2039f2c34eebccb6b1d90c400f517bd2d"
 },
 "nbformat": 3,
 "nbformat_minor": 0,
 "worksheets": [
  {
   "cells": [
    {
     "cell_type": "heading",
     "level": 1,
     "metadata": {},
     "source": [
      "Tutorial: WPS *sync execute* request"
     ]
    },
    {
     "cell_type": "markdown",
     "metadata": {},
     "source": [
      "Template for *sync execute* request"
     ]
    },
    {
     "cell_type": "code",
     "collapsed": false,
     "input": [
      "req_url = \"{wps_url}?\" +\\\n",
      "    \"request=Execute\" +\\\n",
      "    \"&service=WPS\" +\\\n",
      "    \"&version=1.0.0\" +\\\n",
      "    \"&identifier={identifier}\" +\\\n",
      "    \"&DataInputs={inputs}\" +\\\n",
      "    \"&storeExecuteResponse=false\" +\\\n",
      "    \"&status=false\"\n",
      "    "
     ],
     "language": "python",
     "metadata": {},
     "outputs": [],
     "prompt_number": 4
    },
    {
     "cell_type": "markdown",
     "metadata": {},
     "source": [
      "Execute the *ultimate question* process ..."
     ]
    },
    {
     "cell_type": "code",
     "collapsed": false,
     "input": [
      "url=req_url.format(\n",
      "    wps_url=\"http://mouflon.dkrz.de/wps\",\n",
      "    identifier=\"org.malleefowl.test.ultimatequestionprocess\", \n",
      "    inputs=\"\")\n",
      "print url   "
     ],
     "language": "python",
     "metadata": {},
     "outputs": [
      {
       "output_type": "stream",
       "stream": "stdout",
       "text": [
        "http://mouflon.dkrz.de/wps?request=Execute&service=WPS&version=1.0.0&identifier=org.malleefowl.test.ultimatequestionprocess&DataInputs=&storeExecuteResponse=false&status=false\n"
       ]
      }
     ],
     "prompt_number": 5
    },
    {
     "cell_type": "markdown",
     "metadata": {},
     "source": [
      "**Don't panic ...** the answer takes some time!"
     ]
    }
   ],
   "metadata": {}
  }
 ]
}