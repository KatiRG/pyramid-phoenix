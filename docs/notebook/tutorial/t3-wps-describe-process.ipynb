{
 "metadata": {
  "name": "",
  "signature": "sha256:c3b1f31577d4d8869402e2daf81ca69381b476d280abeeec1033b4e1c5e6e2da"
 },
 "nbformat": 3,
 "nbformat_minor": 0,
 "worksheets": [
  {
   "cells": [
    {
     "cell_type": "code",
     "collapsed": false,
     "input": [
      "req_url = \"http://mouflon.dkrz.de/wps?\" +\\\n",
      "    \"&request=DescribeProcess\" +\\\n",
      "    \"&service=WPS\" +\\\n",
      "    \"&version=1.0.0\" +\\\n",
      "    \"&identifier=org.malleefowl.test.helloworld\"\n",
      "   "
     ],
     "language": "python",
     "metadata": {},
     "outputs": [],
     "prompt_number": 1
    },
    {
     "cell_type": "code",
     "collapsed": false,
     "input": [
      "print req_url"
     ],
     "language": "python",
     "metadata": {},
     "outputs": [
      {
       "output_type": "stream",
       "stream": "stdout",
       "text": [
        "http://mouflon.dkrz.de/wps?&request=DescribeProcess&service=WPS&version=1.0.0&identifier=org.malleefowl.test.helloworld\n"
       ]
      }
     ],
     "prompt_number": 2
    },
    {
     "cell_type": "code",
     "collapsed": false,
     "input": [],
     "language": "python",
     "metadata": {},
     "outputs": []
    }
   ],
   "metadata": {}
  }
 ]
}