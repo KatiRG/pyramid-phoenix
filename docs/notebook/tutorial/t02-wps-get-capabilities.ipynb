{
 "metadata": {
  "name": "",
  "signature": "sha256:0bca89511f7c2c8660ac3d4a096b1e235e9831090fd2d69c6c38360635acc4c0"
 },
 "nbformat": 3,
 "nbformat_minor": 0,
 "worksheets": [
  {
   "cells": [
    {
     "cell_type": "heading",
     "level": 1,
     "metadata": {},
     "source": [
      "Tutorial 2: WPS GetCapabilities Request"
     ]
    },
    {
     "cell_type": "markdown",
     "metadata": {},
     "source": [
      "URL for the *GetCapabilities* request"
     ]
    },
    {
     "cell_type": "code",
     "collapsed": false,
     "input": [
      "req_url = \"{wps_url}?\" +\\\n",
      "    \"&request=GetCapabilities\" +\\\n",
      "    \"&service=WPS\" +\\\n",
      "    \"&version=1.0.0\""
     ],
     "language": "python",
     "metadata": {},
     "outputs": [],
     "prompt_number": 1
    },
    {
     "cell_type": "markdown",
     "metadata": {},
     "source": [
      "Get capabilities of mouflon.dkrz.de ..."
     ]
    },
    {
     "cell_type": "code",
     "collapsed": false,
     "input": [
      "url=req_url.format(wps_url=\"https://mouflon.dkrz.de/wps\")\n",
      "print url"
     ],
     "language": "python",
     "metadata": {},
     "outputs": [
      {
       "output_type": "stream",
       "stream": "stdout",
       "text": [
        "https://mouflon.dkrz.de/wps?&request=GetCapabilities&service=WPS&version=1.0.0\n"
       ]
      }
     ],
     "prompt_number": 2
    },
    {
     "cell_type": "markdown",
     "metadata": {},
     "source": [
      "Try another WPS Server ..."
     ]
    },
    {
     "cell_type": "code",
     "collapsed": false,
     "input": [
      "url=req_url.format(wps_url=\"http://rsg.pml.ac.uk/wps/generic.cgi\")\n",
      "print url"
     ],
     "language": "python",
     "metadata": {},
     "outputs": [
      {
       "output_type": "stream",
       "stream": "stdout",
       "text": [
        "http://rsg.pml.ac.uk/wps/generic.cgi?&request=GetCapabilities&service=WPS&version=1.0.0\n"
       ]
      }
     ],
     "prompt_number": 3
    },
    {
     "cell_type": "code",
     "collapsed": false,
     "input": [],
     "language": "python",
     "metadata": {},
     "outputs": []
    }
   ],
   "metadata": {}
  }
 ]
}