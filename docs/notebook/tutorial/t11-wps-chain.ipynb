{
 "metadata": {
  "name": "",
  "signature": "sha256:366c286291051a86af4a7e90ae8dfcb196bf00ec8ae6b7198543c28c59cb65e5"
 },
 "nbformat": 3,
 "nbformat_minor": 0,
 "worksheets": [
  {
   "cells": [
    {
     "cell_type": "heading",
     "level": 1,
     "metadata": {},
     "source": [
      "Tutorial: WPS chaining of processes"
     ]
    },
    {
     "cell_type": "markdown",
     "metadata": {},
     "source": [
      "Template for raw ouput request ..."
     ]
    },
    {
     "cell_type": "code",
     "collapsed": false,
     "input": [
      "req_url = \"{wps_url}?\" +\\\n",
      "    \"request=Execute\" +\\\n",
      "    \"&service=WPS\" +\\\n",
      "    \"&version=1.0.0\" +\\\n",
      "    \"&identifier={identifier}\" +\\\n",
      "    \"&DataInputs={inputs}\" +\\\n",
      "    \"&RawDataOutput={outputs}\""
     ],
     "language": "python",
     "metadata": {},
     "outputs": [],
     "prompt_number": 1
    },
    {
     "cell_type": "markdown",
     "metadata": {},
     "source": [
      "Source process: chomsky text generator"
     ]
    },
    {
     "cell_type": "code",
     "collapsed": false,
     "input": [
      "chomsky_url=req_url.format(\n",
      "    wps_url=\"http://mouflon.dkrz.de/wps\",\n",
      "    identifier=\"org.malleefowl.test.chomsky\", \n",
      "    inputs=\"\",\n",
      "    outputs=\"output\")\n",
      "print chomsky_url  "
     ],
     "language": "python",
     "metadata": {},
     "outputs": [
      {
       "output_type": "stream",
       "stream": "stdout",
       "text": [
        "http://mouflon.dkrz.de/wps?request=Execute&service=WPS&version=1.0.0&identifier=org.malleefowl.test.chomsky&DataInputs=&RawDataOutput=output\n"
       ]
      }
     ],
     "prompt_number": 6
    },
    {
     "cell_type": "markdown",
     "metadata": {},
     "source": [
      "Worker process: wordcount ... using chomsky process as input\n",
      "\n",
      "**TODO**: does not work yet!"
     ]
    },
    {
     "cell_type": "code",
     "collapsed": false,
     "input": [
      "import urllib\n",
      "\n",
      "count_url=req_url.format(\n",
      "    wps_url=\"http://mouflon.dkrz.de/wps\",\n",
      "    identifier=\"org.malleefowl.test.wordcount\", \n",
      "    inputs=\"text=@xlink:href=%s\" % (urllib.quote(chomsky_url)),\n",
      "    outputs=\"output\")\n",
      "print count_url  "
     ],
     "language": "python",
     "metadata": {},
     "outputs": [
      {
       "output_type": "stream",
       "stream": "stdout",
       "text": [
        "http://mouflon.dkrz.de/wps?request=Execute&service=WPS&version=1.0.0&identifier=org.malleefowl.test.wordcount&DataInputs=text=@xlink:href=http%3A//mouflon.dkrz.de/wps%3Frequest%3DExecute%26service%3DWPS%26version%3D1.0.0%26identifier%3Dorg.malleefowl.test.chomsky%26DataInputs%3D%26RawDataOutput%3Doutput&RawDataOutput=output\n"
       ]
      }
     ],
     "prompt_number": 7
    },
    {
     "cell_type": "markdown",
     "metadata": {},
     "source": [
      "Process chaining with owslib.wps ..."
     ]
    },
    {
     "cell_type": "code",
     "collapsed": false,
     "input": [
      "from owslib.wps import WebProcessingService, monitorExecution\n",
      "wps = WebProcessingService(url=\"http://mouflon.dkrz.de/wps\")\n",
      "\n",
      "# execute wordcount process with chomsky as input\n",
      "execute = wps.execute(\n",
      "    identifier=\"org.malleefowl.test.wordcount\",\n",
      "    inputs=[(\"text\", chomsky_url)],\n",
      "    output=[(\"output\", True)])\n",
      "\n",
      "# check process if completed ...\n",
      "monitorExecution(execute)\n"
     ],
     "language": "python",
     "metadata": {},
     "outputs": [
      {
       "output_type": "stream",
       "stream": "stdout",
       "text": [
        "Executing WPS request...\n",
        "Execution status=ProcessAccepted"
       ]
      },
      {
       "output_type": "stream",
       "stream": "stdout",
       "text": [
        "\n",
        "Percent completed=0\n",
        "Status message=Process org.malleefowl.test.wordcount accepted\n",
        "\n",
        "Checking execution status... (location=http://mouflon.dkrz.de:80/wpsoutputs/pywps-3d058260-d796-11e3-ab02-d25f2d6b8739.xml)\n",
        "Execution status=ProcessAccepted\n",
        "Percent completed=0\n",
        "Status message=Process org.malleefowl.test.wordcount accepted\n",
        "Sleeping 3 seconds...\n",
        "Execution status: ProcessAccepted"
       ]
      },
      {
       "output_type": "stream",
       "stream": "stdout",
       "text": [
        "\n",
        "\n",
        "Checking execution status... (location=http://mouflon.dkrz.de:80/wpsoutputs/pywps-3d058260-d796-11e3-ab02-d25f2d6b8739.xml)\n",
        "Execution status=ProcessSucceeded\n",
        "Percent completed=0\n",
        "Status message=PyWPS Process org.malleefowl.test.wordcount successfully calculated\n",
        "Execution status: ProcessSucceeded\n",
        "Output URL=http://mouflon.dkrz.de:80/wpsoutputs/output-3d058260-d796-11e3-ab02-d25f2d6b8739.txt\n"
       ]
      }
     ],
     "prompt_number": 8
    },
    {
     "cell_type": "markdown",
     "metadata": {},
     "source": [
      "Print result ..."
     ]
    },
    {
     "cell_type": "code",
     "collapsed": false,
     "input": [
      "o = execute.processOutputs[0]\n",
      "print o.reference"
     ],
     "language": "python",
     "metadata": {},
     "outputs": [
      {
       "output_type": "stream",
       "stream": "stdout",
       "text": [
        "http://mouflon.dkrz.de:80/wpsoutputs/output-3d058260-d796-11e3-ab02-d25f2d6b8739.txt\n"
       ]
      }
     ],
     "prompt_number": 9
    },
    {
     "cell_type": "code",
     "collapsed": false,
     "input": [],
     "language": "python",
     "metadata": {},
     "outputs": []
    }
   ],
   "metadata": {}
  }
 ]
}