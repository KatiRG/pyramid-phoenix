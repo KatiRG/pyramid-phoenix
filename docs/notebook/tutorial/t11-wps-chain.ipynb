{
 "metadata": {
  "name": "",
  "signature": "sha256:f6198b2736bae74c16a99972c621e28acb7a5c9cc0256230dd82f239eeca33a5"
 },
 "nbformat": 3,
 "nbformat_minor": 0,
 "worksheets": [
  {
   "cells": [
    {
     "cell_type": "heading",
     "level": 1,
     "metadata": {},
     "source": [
      "Tutorial: WPS chaining of processes"
     ]
    },
    {
     "cell_type": "markdown",
     "metadata": {},
     "source": [
      "Template for raw ouput request ..."
     ]
    },
    {
     "cell_type": "code",
     "collapsed": false,
     "input": [
      "req_url = \"{wps_url}?\" +\\\n",
      "    \"request=Execute\" +\\\n",
      "    \"&service=WPS\" +\\\n",
      "    \"&version=1.0.0\" +\\\n",
      "    \"&identifier={identifier}\" +\\\n",
      "    \"&DataInputs={inputs}\" +\\\n",
      "    \"&RawDataOutput={outputs}\"\n",
      "    "
     ],
     "language": "python",
     "metadata": {},
     "outputs": [],
     "prompt_number": 1
    },
    {
     "cell_type": "markdown",
     "metadata": {},
     "source": [
      "Source process: chomsky text generator"
     ]
    },
    {
     "cell_type": "code",
     "collapsed": false,
     "input": [
      "chomsky_url=req_url.format(\n",
      "    wps_url=\"http://localhost:8094/wps\",\n",
      "    identifier=\"chomsky\", \n",
      "    inputs=\"times=5\",\n",
      "    outputs=\"output\")\n",
      "print chomsky_url  "
     ],
     "language": "python",
     "metadata": {},
     "outputs": [
      {
       "output_type": "stream",
       "stream": "stdout",
       "text": [
        "http://localhost:8094/wps?request=Execute&service=WPS&version=1.0.0&identifier=chomsky&DataInputs=times=5&RawDataOutput=output\n"
       ]
      }
     ],
     "prompt_number": 7
    },
    {
     "cell_type": "markdown",
     "metadata": {},
     "source": [
      "Worker process: wordcount ... using chomsky process as input\n",
      "\n",
      "Process chaining with owslib.wps ..."
     ]
    },
    {
     "cell_type": "code",
     "collapsed": false,
     "input": [
      "from owslib.wps import WebProcessingService, monitorExecution\n",
      "wps = WebProcessingService(url=\"http://localhost:8094/wps\")\n",
      "\n",
      "# execute wordcount process with chomsky as input\n",
      "execute = wps.execute(\n",
      "    identifier=\"wordcount\",\n",
      "    inputs=[(\"text\", chomsky_url)],\n",
      "    output=[(\"output\", True)])\n",
      "\n",
      "# check process if completed ...\n",
      "monitorExecution(execute, sleepSecs=5)\n"
     ],
     "language": "python",
     "metadata": {},
     "outputs": [],
     "prompt_number": 8
    },
    {
     "cell_type": "markdown",
     "metadata": {},
     "source": [
      "Print result ..."
     ]
    },
    {
     "cell_type": "code",
     "collapsed": false,
     "input": [
      "o = execute.processOutputs[0]\n",
      "print o.reference"
     ],
     "language": "python",
     "metadata": {},
     "outputs": [
      {
       "output_type": "stream",
       "stream": "stdout",
       "text": [
        "http://localhost:8090/wpsoutputs/emu/output-1b55f44a-a7d1-11e4-81d2-68f72837e1b4.txt\n"
       ]
      }
     ],
     "prompt_number": 9
    },
    {
     "cell_type": "code",
     "collapsed": false,
     "input": [],
     "language": "python",
     "metadata": {},
     "outputs": []
    }
   ],
   "metadata": {}
  }
 ]
}