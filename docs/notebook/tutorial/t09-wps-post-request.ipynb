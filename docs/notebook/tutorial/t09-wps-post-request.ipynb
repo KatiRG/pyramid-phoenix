{
 "metadata": {
  "name": "",
  "signature": "sha256:eb4fe9e71578157a551020182e8881b64dd4b7b83bf6e3f9e5962f0516912773"
 },
 "nbformat": 3,
 "nbformat_minor": 0,
 "worksheets": [
  {
   "cells": [
    {
     "cell_type": "heading",
     "level": 1,
     "metadata": {},
     "source": [
      "Tutorial: WPS post request"
     ]
    },
    {
     "cell_type": "markdown",
     "metadata": {},
     "source": [
      "Documentation: http://geoprocessing.info/wpsdoc/1x0ExecutePOST"
     ]
    },
    {
     "cell_type": "markdown",
     "metadata": {},
     "source": [
      "XML for chosmky execute request ..."
     ]
    },
    {
     "cell_type": "code",
     "collapsed": false,
     "input": [
      "execute_xml = \"\"\"\n",
      "<wps:Execute \n",
      "    xmlns:wps=\"http://www.opengis.net/wps/1.0.0\" \n",
      "    xmlns:xsi=\"http://www.w3.org/2001/XMLSchema-instance\" \n",
      "    xmlns:ows=\"http://www.opengis.net/ows/1.1\"\n",
      "    service=\"WPS\" \n",
      "    version=\"1.0.0\" \n",
      "    xsi:schemaLocation=\"http://www.opengis.net/wps/1.0.0 http://schemas.opengis.net/wps/1.0.0/wpsExecute_request.xsd\">\n",
      "    <ows:Identifier>org.malleefowl.test.wordcount</ows:Identifier>\n",
      "    <wps:DataInputs>\n",
      "        <wps:Input>\n",
      "            <ows:Identifier>text</ows:Identifier>\n",
      "            <wps:Data>\n",
      "                <wps:LiteralData>https://gnu.org/licenses/gpl-3.0.txt</wps:LiteralData>\n",
      "            </wps:Data>\n",
      "        </wps:Input>\n",
      "    </wps:DataInputs>\n",
      "    <wps:ResponseForm>\n",
      "        <wps:ResponseDocument status=\"true\" storeExecuteResponse=\"true\">\n",
      "            <wps:Output asReference=\"true\">\n",
      "                <ows:Identifier>output</ows:Identifier>\n",
      "            </wps:Output>\n",
      "        </wps:ResponseDocument>\n",
      "    </wps:ResponseForm>\n",
      "</wps:Execute>\n",
      "\"\"\"\n"
     ],
     "language": "python",
     "metadata": {},
     "outputs": [],
     "prompt_number": 29
    },
    {
     "cell_type": "code",
     "collapsed": false,
     "input": [
      "from urllib2 import urlopen, Request\n",
      "req = Request(\"http://localhost:8090/wps\", execute_xml)\n",
      "req.add_header('Content-Type', \"text/xml\")\n",
      "response = urlopen(req)\n",
      "response.read()"
     ],
     "language": "python",
     "metadata": {},
     "outputs": [
      {
       "metadata": {},
       "output_type": "pyout",
       "prompt_number": 30,
       "text": [
        "'<?xml version=\"1.0\" encoding=\"utf-8\"?>\\n<wps:ExecuteResponse xmlns:wps=\"http://www.opengis.net/wps/1.0.0\" xmlns:ows=\"http://www.opengis.net/ows/1.1\" xmlns:xlink=\"http://www.w3.org/1999/xlink\" xmlns:xsi=\"http://www.w3.org/2001/XMLSchema-instance\" xsi:schemaLocation=\"http://www.opengis.net/wps/1.0.0 http://schemas.opengis.net/wps/1.0.0/wpsExecute_response.xsd\" service=\"WPS\" version=\"1.0.0\" xml:lang=\"en-CA\" serviceInstance=\"http://localhost:8091/wps?service=WPS&amp;request=GetCapabilities&amp;version=1.0.0\" statusLocation=\"http://localhost:8091/wpsoutputs/pywps-7436fc7a-d794-11e3-90d3-5c260a40ceb8.xml\">\\n    <wps:Process wps:processVersion=\"1.0\">\\n        <ows:Identifier>org.malleefowl.test.wordcount</ows:Identifier>\\n        <ows:Title>Word Counter</ows:Title>\\n        <ows:Abstract>Counts words in a given text ...</ows:Abstract>\\n        <ows:Metadata xlink:title=\"Hardworking Bird Malleefowl\" xlink:href=\"http://en.wikipedia.org/wiki/Malleefowl\" />\\n    </wps:Process>\\n    <wps:Status creationTime=\"2014-05-09T18:10:35Z\">\\n        <wps:ProcessAccepted>Process org.malleefowl.test.wordcount accepted</wps:ProcessAccepted>\\n    </wps:Status>\\n</wps:ExecuteResponse>'"
       ]
      }
     ],
     "prompt_number": 30
    },
    {
     "cell_type": "code",
     "collapsed": false,
     "input": [],
     "language": "python",
     "metadata": {},
     "outputs": []
    }
   ],
   "metadata": {}
  }
 ]
}