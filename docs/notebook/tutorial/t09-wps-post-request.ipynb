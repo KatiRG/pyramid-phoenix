{
 "metadata": {
  "name": "",
  "signature": "sha256:3fbe2a97527f99d7a4e400eac33eac75e0847433e24324fc97c4c0011c40a8d0"
 },
 "nbformat": 3,
 "nbformat_minor": 0,
 "worksheets": [
  {
   "cells": [
    {
     "cell_type": "heading",
     "level": 1,
     "metadata": {},
     "source": [
      "Tutorial: WPS post request"
     ]
    },
    {
     "cell_type": "markdown",
     "metadata": {},
     "source": [
      "Documentation: http://geoprocessing.info/wpsdoc/1x0ExecutePOST"
     ]
    },
    {
     "cell_type": "markdown",
     "metadata": {},
     "source": [
      "XML for chosmky execute request ..."
     ]
    },
    {
     "cell_type": "code",
     "collapsed": false,
     "input": [
      "execute_xml = \"\"\"\n",
      "<wps:Execute \n",
      "    xmlns:wps=\"http://www.opengis.net/wps/1.0.0\" \n",
      "    xmlns:xsi=\"http://www.w3.org/2001/XMLSchema-instance\" \n",
      "    xmlns:ows=\"http://www.opengis.net/ows/1.1\"\n",
      "    service=\"WPS\" \n",
      "    version=\"1.0.0\" \n",
      "    xsi:schemaLocation=\"http://www.opengis.net/wps/1.0.0 http://schemas.opengis.net/wps/1.0.0/wpsExecute_request.xsd\">\n",
      "    <ows:Identifier>org.malleefowl.test.wordcount</ows:Identifier>\n",
      "    <wps:DataInputs>\n",
      "        <wps:Input>\n",
      "            <ows:Identifier>text</ows:Identifier>\n",
      "            <wps:Data>\n",
      "                <wps:LiteralData>https://gnu.org/licenses/gpl-3.0.txt</wps:LiteralData>\n",
      "            </wps:Data>\n",
      "        </wps:Input>\n",
      "    </wps:DataInputs>\n",
      "    <wps:ResponseForm>\n",
      "        <wps:ResponseDocument status=\"true\" storeExecuteResponse=\"true\">\n",
      "            <wps:Output asReference=\"true\">\n",
      "                <ows:Identifier>output</ows:Identifier>\n",
      "            </wps:Output>\n",
      "        </wps:ResponseDocument>\n",
      "    </wps:ResponseForm>\n",
      "</wps:Execute>\n",
      "\"\"\"\n",
      "\n"
     ],
     "language": "python",
     "metadata": {},
     "outputs": [],
     "prompt_number": 3
    },
    {
     "cell_type": "code",
     "collapsed": false,
     "input": [
      "from urllib2 import urlopen, Request\n",
      "req = Request(\"https://mouflon.dkrz.de/wps\", execute_xml)\n",
      "req.add_header('Content-Type', \"text/xml\")\n",
      "response = urlopen(req)\n"
     ],
     "language": "python",
     "metadata": {},
     "outputs": [],
     "prompt_number": 4
    },
    {
     "cell_type": "code",
     "collapsed": false,
     "input": [
      "from lxml import etree\n",
      "tree = etree.parse(response)\n",
      "#print etree.tostring(tree)\n",
      "print tree.getroot().get(\"statusLocation\")"
     ],
     "language": "python",
     "metadata": {},
     "outputs": [
      {
       "output_type": "stream",
       "stream": "stdout",
       "text": [
        "http://mouflon.dkrz.de:80/wpsoutputs/pywps-4f3f60cc-e024-11e3-a917-d25f2d6b8739.xml\n"
       ]
      }
     ],
     "prompt_number": 5
    },
    {
     "cell_type": "code",
     "collapsed": false,
     "input": [],
     "language": "python",
     "metadata": {},
     "outputs": []
    }
   ],
   "metadata": {}
  }
 ]
}