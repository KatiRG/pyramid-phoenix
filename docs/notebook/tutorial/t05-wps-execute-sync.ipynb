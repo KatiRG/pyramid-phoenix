{
 "metadata": {
  "name": "",
  "signature": "sha256:5e71fb8b0f9a031ebed35dbe7ea505fdf9d71cfe8ffff5e297e54a7fd03f0013"
 },
 "nbformat": 3,
 "nbformat_minor": 0,
 "worksheets": [
  {
   "cells": [
    {
     "cell_type": "heading",
     "level": 1,
     "metadata": {},
     "source": [
      "Tutorial: WPS *sync execute* request"
     ]
    },
    {
     "cell_type": "markdown",
     "metadata": {},
     "source": [
      "Template for *sync execute* request"
     ]
    },
    {
     "cell_type": "code",
     "collapsed": false,
     "input": [
      "req_url = \"{wps_url}?\" +\\\n",
      "    \"request=Execute\" +\\\n",
      "    \"&service=WPS\" +\\\n",
      "    \"&version=1.0.0\" +\\\n",
      "    \"&identifier={identifier}\" +\\\n",
      "    \"&DataInputs={inputs}\" +\\\n",
      "    \"&storeExecuteResponse=false\" +\\\n",
      "    \"&status=false\"\n",
      "    "
     ],
     "language": "python",
     "metadata": {},
     "outputs": [],
     "prompt_number": 1
    },
    {
     "cell_type": "markdown",
     "metadata": {},
     "source": [
      "Execute the *ultimate question* process ..."
     ]
    },
    {
     "cell_type": "code",
     "collapsed": false,
     "input": [
      "url=req_url.format(\n",
      "    wps_url=\"https://mouflon.dkrz.de/wps\",\n",
      "    identifier=\"org.malleefowl.test.ultimatequestionprocess\", \n",
      "    inputs=\"\")\n",
      "print url   "
     ],
     "language": "python",
     "metadata": {},
     "outputs": [
      {
       "output_type": "stream",
       "stream": "stdout",
       "text": [
        "https://mouflon.dkrz.de/wps?request=Execute&service=WPS&version=1.0.0&identifier=org.malleefowl.test.ultimatequestionprocess&DataInputs=&storeExecuteResponse=false&status=false\n"
       ]
      }
     ],
     "prompt_number": 2
    },
    {
     "cell_type": "markdown",
     "metadata": {},
     "source": [
      "**Don't panic ...** the answer takes some time!"
     ]
    }
   ],
   "metadata": {}
  }
 ]
}