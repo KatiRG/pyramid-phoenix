{
 "metadata": {
  "name": "",
  "signature": "sha256:9eba7f76d8a382c9f81dbba0f67caf90f32e2c3679dfe02a581db674b4448d35"
 },
 "nbformat": 3,
 "nbformat_minor": 0,
 "worksheets": [
  {
   "cells": [
    {
     "cell_type": "heading",
     "level": 1,
     "metadata": {},
     "source": [
      "Tutorial 1 - Hello World"
     ]
    },
    {
     "cell_type": "markdown",
     "metadata": {},
     "source": [
      "Template for WPS execute request"
     ]
    },
    {
     "cell_type": "code",
     "collapsed": false,
     "input": [
      "req_url = \"https://mouflon.dkrz.de/wps?\" +\\\n",
      "    \"&request=Execute\" +\\\n",
      "    \"&service=WPS\" +\\\n",
      "    \"&version=1.0.0\" +\\\n",
      "    \"&identifier={identifier}\" +\\\n",
      "    \"&DataInputs={inputs}\"\n"
     ],
     "language": "python",
     "metadata": {},
     "outputs": [],
     "prompt_number": 5
    },
    {
     "cell_type": "markdown",
     "metadata": {},
     "source": [
      "Parameters for *Hello World* request"
     ]
    },
    {
     "cell_type": "code",
     "collapsed": false,
     "input": [
      "identifier=\"org.malleefowl.test.helloworld\"\n",
      "inputs=\"user=Pingu\""
     ],
     "language": "python",
     "metadata": {},
     "outputs": [],
     "prompt_number": 6
    },
    {
     "cell_type": "markdown",
     "metadata": {},
     "source": [
      "Build wps request url ..."
     ]
    },
    {
     "cell_type": "code",
     "collapsed": false,
     "input": [
      "url=req_url.format(identifier=identifier, inputs=inputs)"
     ],
     "language": "python",
     "metadata": {},
     "outputs": [],
     "prompt_number": 7
    },
    {
     "cell_type": "markdown",
     "metadata": {},
     "source": [
      "Display request url ... try it :)"
     ]
    },
    {
     "cell_type": "code",
     "collapsed": false,
     "input": [
      "print url"
     ],
     "language": "python",
     "metadata": {},
     "outputs": [
      {
       "output_type": "stream",
       "stream": "stdout",
       "text": [
        "https://mouflon.dkrz.de/wps?&request=Execute&service=WPS&version=1.0.0&identifier=org.malleefowl.test.helloworld&DataInputs=user=Pingu\n"
       ]
      }
     ],
     "prompt_number": 8
    },
    {
     "cell_type": "code",
     "collapsed": false,
     "input": [],
     "language": "python",
     "metadata": {},
     "outputs": []
    }
   ],
   "metadata": {}
  }
 ]
}