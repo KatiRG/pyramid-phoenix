{
 "metadata": {
  "name": "",
  "signature": "sha256:98ce2c1bce906eaa182acf671dac0adc0e2c7c105fa9a6dc6c371e3abe5f7b74"
 },
 "nbformat": 3,
 "nbformat_minor": 0,
 "worksheets": [
  {
   "cells": [
    {
     "cell_type": "heading",
     "level": 1,
     "metadata": {},
     "source": [
      "Tutorial 1 - Hello World"
     ]
    },
    {
     "cell_type": "markdown",
     "metadata": {},
     "source": [
      "You need for all tutorials a running Emu WPS service on http://localhost:8094/wps\n",
      "\n",
      "Check the Emu documention on how to install it:\n",
      "http://emu.readthedocs.org/en/latest/\n",
      "\n",
      "You can also use the Emu Docker image:\n",
      "\n",
      "`$ docker run -i -d -p 9001:9001 -p 8090:8090 -p 8094:8094 --name=emu_wps birdhouse/emu`"
     ]
    },
    {
     "cell_type": "markdown",
     "metadata": {},
     "source": [
      "Template for WPS execute request"
     ]
    },
    {
     "cell_type": "code",
     "collapsed": false,
     "input": [
      "req_url = \"http://localhost:8094/wps?\" +\\\n",
      "    \"&request=Execute\" +\\\n",
      "    \"&service=WPS\" +\\\n",
      "    \"&version=1.0.0\" +\\\n",
      "    \"&identifier={identifier}\" +\\\n",
      "    \"&DataInputs={inputs}\"\n"
     ],
     "language": "python",
     "metadata": {},
     "outputs": [],
     "prompt_number": 5
    },
    {
     "cell_type": "markdown",
     "metadata": {},
     "source": [
      "Parameters for *Hello World* request"
     ]
    },
    {
     "cell_type": "code",
     "collapsed": false,
     "input": [
      "identifier=\"helloworld\"\n",
      "inputs=\"user=Pingu\""
     ],
     "language": "python",
     "metadata": {},
     "outputs": [],
     "prompt_number": 6
    },
    {
     "cell_type": "markdown",
     "metadata": {},
     "source": [
      "Build wps request url ..."
     ]
    },
    {
     "cell_type": "code",
     "collapsed": false,
     "input": [
      "url=req_url.format(identifier=identifier, inputs=inputs)"
     ],
     "language": "python",
     "metadata": {},
     "outputs": [],
     "prompt_number": 7
    },
    {
     "cell_type": "markdown",
     "metadata": {},
     "source": [
      "Display request url ... try it :)"
     ]
    },
    {
     "cell_type": "code",
     "collapsed": false,
     "input": [
      "print url"
     ],
     "language": "python",
     "metadata": {},
     "outputs": [
      {
       "output_type": "stream",
       "stream": "stdout",
       "text": [
        "http://localhost:8094/wps?&request=Execute&service=WPS&version=1.0.0&identifier=helloworld&DataInputs=user=Pingu\n"
       ]
      }
     ],
     "prompt_number": 8
    },
    {
     "cell_type": "code",
     "collapsed": false,
     "input": [],
     "language": "python",
     "metadata": {},
     "outputs": []
    }
   ],
   "metadata": {}
  }
 ]
}