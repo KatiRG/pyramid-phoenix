{
 "metadata": {
  "name": "",
  "signature": "sha256:d71d517faf25da3b8f3709d5f42ccf29743ee1c153c666c1ee4c956fb9845c32"
 },
 "nbformat": 3,
 "nbformat_minor": 0,
 "worksheets": []
}