{
 "metadata": {
  "name": "",
  "signature": "sha256:930db00ba8e456b6498c2066298c3c83dfd1130ced53154c8de3d9062659a861"
 },
 "nbformat": 3,
 "nbformat_minor": 0,
 "worksheets": [
  {
   "cells": [
    {
     "cell_type": "code",
     "collapsed": false,
     "input": [
      "from owslib.wps import WebProcessingService, monitorExecution "
     ],
     "language": "python",
     "metadata": {},
     "outputs": [],
     "prompt_number": 2
    },
    {
     "cell_type": "code",
     "collapsed": false,
     "input": [
      "wps = WebProcessingService(url='http://localhost:8090/wps') "
     ],
     "language": "python",
     "metadata": {},
     "outputs": [],
     "prompt_number": 4
    },
    {
     "cell_type": "code",
     "collapsed": false,
     "input": [
      "len(wps.processes)"
     ],
     "language": "python",
     "metadata": {},
     "outputs": [
      {
       "metadata": {},
       "output_type": "pyout",
       "prompt_number": 6,
       "text": [
        "68"
       ]
      }
     ],
     "prompt_number": 6
    },
    {
     "cell_type": "code",
     "collapsed": false,
     "input": [
      "for p in wps.processes:\n",
      "    print p.identifier"
     ],
     "language": "python",
     "metadata": {},
     "outputs": [
      {
       "output_type": "stream",
       "stream": "stdout",
       "text": [
        "org.malleefowl.metadata\n",
        "org.malleefowl.publish.worker\n",
        "org.malleefowl.download.worker\n",
        "org.malleefowl.token.generate\n",
        "org.malleefowl.restflow.generate\n",
        "org.malleefowl.restflow.run\n",
        "org.malleefowl.wpschain\n",
        "de.dkrz.cdo.sinfo.worker\n",
        "de.dkrz.cdo.operation.worker\n",
        "de.csc.esgf.ensembles.worker\n",
        "org.malleefowl.esgf.logon\n",
        "org.malleefowl.esgf.metadata.worker\n",
        "org.malleefowl.esgf.opendap.source\n",
        "org.malleefowl.esgf.wget.source\n",
        "org.malleefowl.test.addone\n",
        "org.malleefowl.test.helloworld\n",
        "org.malleefowl.test.inout\n",
        "org.malleefowl.test.ultimatequestionprocess\n",
        "org.malleefowl.storage.filesystem.source\n",
        "org.malleefowl.listfiles\n",
        "de.c3grid.iso19139.convert\n",
        "de.c3grid.oai.iso19139.convert\n",
        "de.c3grid.oai.iso19139.list\n",
        "de.c3grid.iso19139.summary\n",
        "de.c3grid.oai.iso19139.summary\n",
        "de.csc.esgf.spec2relhum.worker\n",
        "de.csc.indice.worker\n",
        "de.csc.gam.worker\n",
        "de.csc.esgf.penman.worker.worker\n",
        "de.csc.esgf.anopheles.worker\n",
        "org.malleefowl.wms.animate.kml\n",
        "org.malleefowl.wms.animate.timesteps\n",
        "org.malleefowl.wms.layer\n",
        "de.csc.visualisation.worker\n",
        "org.malleefowl.metadata\n",
        "org.malleefowl.publish.worker\n",
        "org.malleefowl.download.worker\n",
        "org.malleefowl.token.generate\n",
        "org.malleefowl.restflow.generate\n",
        "org.malleefowl.restflow.run\n",
        "org.malleefowl.wpschain\n",
        "de.dkrz.cdo.sinfo.worker\n",
        "de.dkrz.cdo.operation.worker\n",
        "de.csc.esgf.ensembles.worker\n",
        "org.malleefowl.esgf.logon\n",
        "org.malleefowl.esgf.metadata.worker\n",
        "org.malleefowl.esgf.opendap.source\n",
        "org.malleefowl.esgf.wget.source\n",
        "org.malleefowl.test.addone\n",
        "org.malleefowl.test.helloworld\n",
        "org.malleefowl.test.inout\n",
        "org.malleefowl.test.ultimatequestionprocess\n",
        "org.malleefowl.storage.filesystem.source\n",
        "org.malleefowl.listfiles\n",
        "de.c3grid.iso19139.convert\n",
        "de.c3grid.oai.iso19139.convert\n",
        "de.c3grid.oai.iso19139.list\n",
        "de.c3grid.iso19139.summary\n",
        "de.c3grid.oai.iso19139.summary\n",
        "de.csc.esgf.spec2relhum.worker\n",
        "de.csc.indice.worker\n",
        "de.csc.gam.worker\n",
        "de.csc.esgf.penman.worker.worker\n",
        "de.csc.esgf.anopheles.worker\n",
        "org.malleefowl.wms.animate.kml\n",
        "org.malleefowl.wms.animate.timesteps\n",
        "org.malleefowl.wms.layer\n",
        "de.csc.visualisation.worker\n"
       ]
      }
     ],
     "prompt_number": 8
    },
    {
     "cell_type": "code",
     "collapsed": false,
     "input": [
      "identifier = 'de.csc.visualisation.worker'"
     ],
     "language": "python",
     "metadata": {},
     "outputs": [],
     "prompt_number": 9
    },
    {
     "cell_type": "code",
     "collapsed": false,
     "input": [
      "p = wps.describeprocess(identifier=identifier)"
     ],
     "language": "python",
     "metadata": {},
     "outputs": [],
     "prompt_number": 11
    },
    {
     "cell_type": "code",
     "collapsed": false,
     "input": [
      "p.abstract"
     ],
     "language": "python",
     "metadata": {},
     "outputs": [
      {
       "metadata": {},
       "output_type": "pyout",
       "prompt_number": 12,
       "text": [
        "'Just testing a nice script to visualise some variables'"
       ]
      }
     ],
     "prompt_number": 12
    },
    {
     "cell_type": "code",
     "collapsed": false,
     "input": [
      "datainputs = []"
     ],
     "language": "python",
     "metadata": {},
     "outputs": [],
     "prompt_number": 13
    },
    {
     "cell_type": "code",
     "collapsed": false,
     "input": [
      "datainputs.append(('variable','tas'))"
     ],
     "language": "python",
     "metadata": {},
     "outputs": [],
     "prompt_number": 14
    },
    {
     "cell_type": "code",
     "collapsed": false,
     "input": [
      "datainputs.append(('file_identifier','http://localhost:8090/thredds/fileServer/test/nils.hempelmann@hzg.de/tas_EUR-44i_ICHEC-EC-EARTH_historical_r12i1p1_SMHI-RCA4_v1_mon_200101-200512.nc'))\n",
      "\n"
     ],
     "language": "python",
     "metadata": {},
     "outputs": [],
     "prompt_number": 15
    },
    {
     "cell_type": "code",
     "collapsed": false,
     "input": [
      "execute = wps.execute(identifier=identifier, inputs=datainputs, output=[('output', True)])"
     ],
     "language": "python",
     "metadata": {},
     "outputs": [
      {
       "output_type": "stream",
       "stream": "stdout",
       "text": [
        "Executing WPS request...\n",
        "Execution status=ProcessAccepted"
       ]
      },
      {
       "output_type": "stream",
       "stream": "stdout",
       "text": [
        "\n",
        "Percent completed=0\n",
        "Status message=Process de.csc.visualisation.worker accepted\n"
       ]
      }
     ],
     "prompt_number": 22
    },
    {
     "cell_type": "code",
     "collapsed": false,
     "input": [
      "execute.checkStatus()"
     ],
     "language": "python",
     "metadata": {},
     "outputs": [
      {
       "output_type": "stream",
       "stream": "stdout",
       "text": [
        "\n",
        "Checking execution status... (location=http://localhost:8091/wpsoutputs/pywps-f8adebda-d5eb-11e3-b2e2-d4bed959f031.xml)\n",
        "Execution status=ProcessSucceeded\n",
        "Percent completed=0\n",
        "Status message=PyWPS Process de.csc.visualisation.worker successfully calculated\n"
       ]
      }
     ],
     "prompt_number": 24
    },
    {
     "cell_type": "code",
     "collapsed": false,
     "input": [
      "execute.statusLocation"
     ],
     "language": "python",
     "metadata": {},
     "outputs": [
      {
       "metadata": {},
       "output_type": "pyout",
       "prompt_number": 25,
       "text": [
        "'http://localhost:8091/wpsoutputs/pywps-f8adebda-d5eb-11e3-b2e2-d4bed959f031.xml'"
       ]
      }
     ],
     "prompt_number": 25
    },
    {
     "cell_type": "code",
     "collapsed": false,
     "input": [
      "monitorExecution(execute)"
     ],
     "language": "python",
     "metadata": {},
     "outputs": [
      {
       "output_type": "stream",
       "stream": "stdout",
       "text": [
        "Output URL=http://localhost:8091/wpsoutputs/output-f8adebda-d5eb-11e3-b2e2-d4bed959f031.html\n"
       ]
      }
     ],
     "prompt_number": 26
    },
    {
     "cell_type": "code",
     "collapsed": false,
     "input": [
      "o = execute.processOutputs[0]"
     ],
     "language": "python",
     "metadata": {},
     "outputs": [],
     "prompt_number": 29
    },
    {
     "cell_type": "code",
     "collapsed": false,
     "input": [
      "print o.reference"
     ],
     "language": "python",
     "metadata": {},
     "outputs": [
      {
       "output_type": "stream",
       "stream": "stdout",
       "text": [
        "http://localhost:8091/wpsoutputs/output-f8adebda-d5eb-11e3-b2e2-d4bed959f031.html\n"
       ]
      }
     ],
     "prompt_number": 31
    },
    {
     "cell_type": "code",
     "collapsed": false,
     "input": [],
     "language": "python",
     "metadata": {},
     "outputs": []
    }
   ],
   "metadata": {}
  }
 ]
}