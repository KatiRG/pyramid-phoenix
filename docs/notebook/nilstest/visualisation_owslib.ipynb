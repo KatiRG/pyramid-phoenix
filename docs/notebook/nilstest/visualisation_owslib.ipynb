{
 "metadata": {
  "name": "",
  "signature": "sha256:fe0bd51dd50de96316ac68afc287e2e794e37e7c61243a2376c5d2b84cd9d61a"
 },
 "nbformat": 3,
 "nbformat_minor": 0,
 "worksheets": [
  {
   "cells": [
    {
     "cell_type": "code",
     "collapsed": false,
     "input": [
      "from owslib.wps import WebProcessingService, monitorExecution "
     ],
     "language": "python",
     "metadata": {},
     "outputs": [],
     "prompt_number": 2
    },
    {
     "cell_type": "code",
     "collapsed": false,
     "input": [
      "wps = WebProcessingService(url=\"http://localhost:8081/wps\", verbose=False, skip_caps=False)"
     ],
     "language": "python",
     "metadata": {},
     "outputs": [],
     "prompt_number": 4
    },
    {
     "cell_type": "code",
     "collapsed": false,
     "input": [
      "# execute wordcount process with chomsky as input\n",
      "execute = wps.execute(\n",
      "    identifier=\"de.csc.visualisation.worker\",\n",
      "    inputs=[\n",
      "    (\"variable\", \"tas\"),\n",
      "    (\"file_identifier\", \"https://localhost/thredds/fileServer/test/nils.hempelmann@hzg.de/tas_EUR-44_CNRM-CERFACS-CNRM-CM5_historical_r1i1p1_SMHI-RCA4_v1_day_20010101-20051231.nc\"),\n",
      "    (\"file_identifier\", \"https://localhost/thredds/fileServer/test/nils.hempelmann@hzg.de/tas_EUR-44_ICHEC-EC-EARTH_historical_r12i1p1_SMHI-RCA4_v1_day_20010101-20051231.nc\"),\n",
      "    (\"file_identifier\", \"https://localhost/thredds/fileServer/test/nils.hempelmann@hzg.de/tas_EUR-44_ICHEC-EC-EARTH_historical_r1i1p1_KNMI-RACMO22E_v1_day_20010101-20051231.nc\")],\n",
      "    output=[(\"output\", True)])\n",
      "\n",
      "# check process if completed ...\n",
      "monitorExecution(execute, sleepSecs=10)\n",
      "\n",
      "\n"
     ],
     "language": "python",
     "metadata": {},
     "outputs": [
      {
       "output_type": "stream",
       "stream": "stdout",
       "text": [
        "Executing WPS request...\n"
       ]
      },
      {
       "ename": "IndexError",
       "evalue": "list index out of range",
       "output_type": "pyerr",
       "traceback": [
        "\u001b[1;31m---------------------------------------------------------------------------\u001b[0m\n\u001b[1;31mIndexError\u001b[0m                                Traceback (most recent call last)",
        "\u001b[1;32m<ipython-input-5-04e385f6cfa4>\u001b[0m in \u001b[0;36m<module>\u001b[1;34m()\u001b[0m\n\u001b[0;32m      7\u001b[0m     \u001b[1;33m(\u001b[0m\u001b[1;34m\"file_identifier\"\u001b[0m\u001b[1;33m,\u001b[0m \u001b[1;34m\"https://localhost/thredds/fileServer/test/nils.hempelmann@hzg.de/tas_EUR-44_ICHEC-EC-EARTH_historical_r12i1p1_SMHI-RCA4_v1_day_20010101-20051231.nc\"\u001b[0m\u001b[1;33m)\u001b[0m\u001b[1;33m,\u001b[0m\u001b[1;33m\u001b[0m\u001b[0m\n\u001b[0;32m      8\u001b[0m     (\"file_identifier\", \"https://localhost/thredds/fileServer/test/nils.hempelmann@hzg.de/tas_EUR-44_ICHEC-EC-EARTH_historical_r1i1p1_KNMI-RACMO22E_v1_day_20010101-20051231.nc\")],\n\u001b[1;32m----> 9\u001b[1;33m     output=[(\"output\", True)])\n\u001b[0m\u001b[0;32m     10\u001b[0m \u001b[1;33m\u001b[0m\u001b[0m\n\u001b[0;32m     11\u001b[0m \u001b[1;31m# check process if completed ...\u001b[0m\u001b[1;33m\u001b[0m\u001b[1;33m\u001b[0m\u001b[0m\n",
        "\u001b[1;32m/home/nils/anaconda/lib/python2.7/site-packages/OWSLib-0.8_dev-py2.7.egg/owslib/wps.pyc\u001b[0m in \u001b[0;36mexecute\u001b[1;34m(self, identifier, inputs, output, request, response)\u001b[0m\n\u001b[0;32m    257\u001b[0m \u001b[1;33m\u001b[0m\u001b[0m\n\u001b[0;32m    258\u001b[0m         \u001b[1;31m# parse response\u001b[0m\u001b[1;33m\u001b[0m\u001b[1;33m\u001b[0m\u001b[0m\n\u001b[1;32m--> 259\u001b[1;33m         \u001b[0mexecution\u001b[0m\u001b[1;33m.\u001b[0m\u001b[0mparseResponse\u001b[0m\u001b[1;33m(\u001b[0m\u001b[0mresponse\u001b[0m\u001b[1;33m)\u001b[0m\u001b[1;33m\u001b[0m\u001b[0m\n\u001b[0m\u001b[0;32m    260\u001b[0m \u001b[1;33m\u001b[0m\u001b[0m\n\u001b[0;32m    261\u001b[0m         \u001b[1;32mreturn\u001b[0m \u001b[0mexecution\u001b[0m\u001b[1;33m\u001b[0m\u001b[0m\n",
        "\u001b[1;32m/home/nils/anaconda/lib/python2.7/site-packages/OWSLib-0.8_dev-py2.7.egg/owslib/wps.pyc\u001b[0m in \u001b[0;36mparseResponse\u001b[1;34m(self, response)\u001b[0m\n\u001b[0;32m    691\u001b[0m         \"\"\"\n\u001b[0;32m    692\u001b[0m \u001b[1;33m\u001b[0m\u001b[0m\n\u001b[1;32m--> 693\u001b[1;33m         \u001b[0mrootTag\u001b[0m \u001b[1;33m=\u001b[0m \u001b[0mresponse\u001b[0m\u001b[1;33m.\u001b[0m\u001b[0mtag\u001b[0m\u001b[1;33m.\u001b[0m\u001b[0msplit\u001b[0m\u001b[1;33m(\u001b[0m\u001b[1;34m'}'\u001b[0m\u001b[1;33m)\u001b[0m\u001b[1;33m[\u001b[0m\u001b[1;36m1\u001b[0m\u001b[1;33m]\u001b[0m\u001b[1;33m\u001b[0m\u001b[0m\n\u001b[0m\u001b[0;32m    694\u001b[0m         \u001b[1;31m# <ns0:ExecuteResponse>\u001b[0m\u001b[1;33m\u001b[0m\u001b[1;33m\u001b[0m\u001b[0m\n\u001b[0;32m    695\u001b[0m         \u001b[1;32mif\u001b[0m \u001b[0mrootTag\u001b[0m \u001b[1;33m==\u001b[0m \u001b[1;34m'ExecuteResponse'\u001b[0m\u001b[1;33m:\u001b[0m\u001b[1;33m\u001b[0m\u001b[0m\n",
        "\u001b[1;31mIndexError\u001b[0m: list index out of range"
       ]
      }
     ],
     "prompt_number": 5
    },
    {
     "cell_type": "code",
     "collapsed": false,
     "input": [
      "o = execute.processOutputs[0]\n",
      "print o.reference"
     ],
     "language": "python",
     "metadata": {},
     "outputs": [
      {
       "output_type": "stream",
       "stream": "stdout",
       "text": [
        "http://localhost:8091/wpsoutputs/output-11376822-dc66-11e3-b2e2-d4bed959f031.html\n"
       ]
      }
     ],
     "prompt_number": 12
    },
    {
     "cell_type": "code",
     "collapsed": false,
     "input": [],
     "language": "python",
     "metadata": {},
     "outputs": []
    }
   ],
   "metadata": {}
  }
 ]
}