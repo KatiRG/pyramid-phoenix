{
 "metadata": {
  "name": "",
  "signature": "sha256:b094a5505a3f8fbb150c244486681fa471328dc129365e5a8333d82b35ccb2d1"
 },
 "nbformat": 3,
 "nbformat_minor": 0,
 "worksheets": []
}