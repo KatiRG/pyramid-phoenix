{
 "metadata": {
  "name": "",
  "signature": "sha256:f3e3e124a0e9bfd66208e844b020d9bb1eb82c6057d95bcd196e1425289fbfb0"
 },
 "nbformat": 3,
 "nbformat_minor": 0,
 "worksheets": [
  {
   "cells": [
    {
     "cell_type": "heading",
     "level": 1,
     "metadata": {},
     "source": [
      "Execute dummyprocess with owslib.wps"
     ]
    },
    {
     "cell_type": "code",
     "collapsed": false,
     "input": [
      "from owslib.wps import WebProcessingService, monitorExecution"
     ],
     "language": "python",
     "metadata": {},
     "outputs": [],
     "prompt_number": 1
    },
    {
     "cell_type": "code",
     "collapsed": false,
     "input": [
      "wps = WebProcessingService(url=\"http://localhost:8090/wps\")"
     ],
     "language": "python",
     "metadata": {},
     "outputs": [],
     "prompt_number": 3
    },
    {
     "cell_type": "code",
     "collapsed": false,
     "input": [
      "wps.getcapabilities()"
     ],
     "language": "python",
     "metadata": {},
     "outputs": [],
     "prompt_number": 4
    },
    {
     "cell_type": "code",
     "collapsed": false,
     "input": [
      "for p in wps.processes:\n",
      "    print p.identifier"
     ],
     "language": "python",
     "metadata": {},
     "outputs": [
      {
       "output_type": "stream",
       "stream": "stdout",
       "text": [
        "org.malleefowl.metadata\n",
        "org.malleefowl.publish.worker\n",
        "org.malleefowl.download.worker\n",
        "org.malleefowl.token.generate\n",
        "org.malleefowl.restflow.generate\n",
        "org.malleefowl.restflow.run\n",
        "de.dkrz.cdo.sinfo.worker\n",
        "de.dkrz.cdo.operation.worker\n",
        "de.csc.esgf.ensembles.worker\n",
        "org.malleefowl.esgf.logon\n",
        "org.malleefowl.esgf.metadata.worker\n",
        "org.malleefowl.esgf.opendap.source\n",
        "org.malleefowl.esgf.wget.source\n",
        "org.malleefowl.test.add\n",
        "org.malleefowl.test.inout\n",
        "org.malleefowl.test.ocgis\n",
        "org.malleefowl.test.whoareyou\n",
        "org.malleefowl.storage.filesystem.source\n",
        "org.malleefowl.listfiles\n",
        "org.malleefowl.irods.ls\n",
        "org.malleefowl.irods.rsync\n",
        "de.c3grid.iso19139.convert\n",
        "de.c3grid.oai.iso19139.convert\n",
        "de.c3grid.oai.iso19139.list\n",
        "de.c3grid.iso19139.summary\n",
        "de.c3grid.oai.iso19139.summary\n",
        "de.csc.esgf.spec2relhum.worker\n",
        "de.csc.indices.worker\n",
        "de.csc.icclim.worker\n",
        "de.csc.gam.worker\n",
        "de.csc.esgf.penman.worker.worker\n",
        "de.csc.esgf.anopheles.worker\n",
        "org.malleefowl.wms.animate.kml\n",
        "org.malleefowl.wms.animate.timesteps\n",
        "org.malleefowl.wms.layer\n",
        "org.malleefowl.test.dummyprocess\n",
        "org.malleefowl.test.ultimatequestionprocess\n",
        "Get_Example_Directory\n",
        "Get_Session_IDs\n",
        "PID_for_dataset\n",
        "PID_for_file\n",
        "PIDs_from_yaml_document\n",
        "QC_Chain\n",
        "QC_Yaml_Chain\n",
        "QC_Check\n",
        "QC_Cleanup\n",
        "QC_Evaluate\n",
        "QC_Init\n",
        "QC_Init_With_Yamllogs\n",
        "QC_Publish_Meta\n",
        "QC_Publish_Quality\n",
        "org.malleefowl.metadata\n",
        "org.malleefowl.publish.worker\n",
        "org.malleefowl.download.worker\n",
        "org.malleefowl.token.generate\n",
        "org.malleefowl.restflow.generate\n",
        "org.malleefowl.restflow.run\n",
        "de.dkrz.cdo.sinfo.worker\n",
        "de.dkrz.cdo.operation.worker\n",
        "de.csc.esgf.ensembles.worker\n",
        "org.malleefowl.esgf.logon\n",
        "org.malleefowl.esgf.metadata.worker\n",
        "org.malleefowl.esgf.opendap.source\n",
        "org.malleefowl.esgf.wget.source\n",
        "org.malleefowl.test.add\n",
        "org.malleefowl.test.inout\n",
        "org.malleefowl.test.ocgis\n",
        "org.malleefowl.test.whoareyou\n",
        "org.malleefowl.storage.filesystem.source\n",
        "org.malleefowl.listfiles\n",
        "org.malleefowl.irods.ls\n",
        "org.malleefowl.irods.rsync\n",
        "de.c3grid.iso19139.convert\n",
        "de.c3grid.oai.iso19139.convert\n",
        "de.c3grid.oai.iso19139.list\n",
        "de.c3grid.iso19139.summary\n",
        "de.c3grid.oai.iso19139.summary\n",
        "de.csc.esgf.spec2relhum.worker\n",
        "de.csc.indices.worker\n",
        "de.csc.icclim.worker\n",
        "de.csc.gam.worker\n",
        "de.csc.esgf.penman.worker.worker\n",
        "de.csc.esgf.anopheles.worker\n",
        "org.malleefowl.wms.animate.kml\n",
        "org.malleefowl.wms.animate.timesteps\n",
        "org.malleefowl.wms.layer\n",
        "org.malleefowl.test.dummyprocess\n",
        "org.malleefowl.test.ultimatequestionprocess\n",
        "Get_Example_Directory\n",
        "Get_Session_IDs\n",
        "PID_for_dataset\n",
        "PID_for_file\n",
        "PIDs_from_yaml_document\n",
        "QC_Chain\n",
        "QC_Yaml_Chain\n",
        "QC_Check\n",
        "QC_Cleanup\n",
        "QC_Evaluate\n",
        "QC_Init\n",
        "QC_Init_With_Yamllogs\n",
        "QC_Publish_Meta\n",
        "QC_Publish_Quality\n"
       ]
      }
     ],
     "prompt_number": 6
    },
    {
     "cell_type": "code",
     "collapsed": false,
     "input": [
      "p = wps.describeprocess(identifier=\"org.malleefowl.test.dummyprocess\")"
     ],
     "language": "python",
     "metadata": {},
     "outputs": [],
     "prompt_number": 8
    },
    {
     "cell_type": "code",
     "collapsed": false,
     "input": [
      "p.title"
     ],
     "language": "python",
     "metadata": {},
     "outputs": [
      {
       "metadata": {},
       "output_type": "pyout",
       "prompt_number": 9,
       "text": [
        "'Dummy Process'"
       ]
      }
     ],
     "prompt_number": 9
    },
    {
     "cell_type": "code",
     "collapsed": false,
     "input": [
      "p.abstract"
     ],
     "language": "python",
     "metadata": {},
     "outputs": [
      {
       "metadata": {},
       "output_type": "pyout",
       "prompt_number": 12,
       "text": [
        "'The Dummy process is used for testing the WPS structure. The process will accept 2 input numbers and will return the XML result with an add one and subtract one operation'"
       ]
      }
     ],
     "prompt_number": 12
    },
    {
     "cell_type": "code",
     "collapsed": false,
     "input": [
      "for input in p.dataInputs:\n",
      "    print input.identifier"
     ],
     "language": "python",
     "metadata": {},
     "outputs": [
      {
       "output_type": "stream",
       "stream": "stdout",
       "text": [
        "input1\n",
        "input2\n"
       ]
      }
     ],
     "prompt_number": 11
    },
    {
     "cell_type": "code",
     "collapsed": false,
     "input": [
      "execute = wps.execute(identifier=p.identifier, inputs=[('input1', '10'), ('input2', '1')])"
     ],
     "language": "python",
     "metadata": {},
     "outputs": [
      {
       "output_type": "stream",
       "stream": "stdout",
       "text": [
        "Executing WPS request...\n",
        "Execution status=ProcessSucceeded"
       ]
      },
      {
       "output_type": "stream",
       "stream": "stdout",
       "text": [
        "\n",
        "Percent completed=0\n",
        "Status message=PyWPS Process org.malleefowl.test.dummyprocess successfully calculated\n"
       ]
      }
     ],
     "prompt_number": 23
    },
    {
     "cell_type": "code",
     "collapsed": false,
     "input": [
      "monitorExecution(execute)"
     ],
     "language": "python",
     "metadata": {},
     "outputs": [],
     "prompt_number": 24
    },
    {
     "cell_type": "code",
     "collapsed": false,
     "input": [
      "for output in execute.processOutputs:\n",
      "    print output.identifier, output.data"
     ],
     "language": "python",
     "metadata": {},
     "outputs": [
      {
       "output_type": "stream",
       "stream": "stdout",
       "text": [
        "output2 ['9']\n",
        "output1 ['11']\n"
       ]
      }
     ],
     "prompt_number": 25
    },
    {
     "cell_type": "code",
     "collapsed": false,
     "input": [],
     "language": "python",
     "metadata": {},
     "outputs": []
    }
   ],
   "metadata": {}
  }
 ]
}