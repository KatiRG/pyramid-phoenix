{
 "metadata": {
  "name": "",
  "signature": "sha256:21bc9171530886d82ac3ef902641fc6ec5ae6905a70e4cd74e63b1e01dea69ec"
 },
 "nbformat": 3,
 "nbformat_minor": 0,
 "worksheets": [
  {
   "cells": [
    {
     "cell_type": "code",
     "collapsed": false,
     "input": [
      "import urllib"
     ],
     "language": "python",
     "metadata": {},
     "outputs": [],
     "prompt_number": 56
    },
    {
     "cell_type": "code",
     "collapsed": false,
     "input": [
      "identifier = \"de.dkrz.cdo.sinfo.worker\""
     ],
     "language": "python",
     "metadata": {},
     "outputs": [],
     "prompt_number": 57
    },
    {
     "cell_type": "code",
     "collapsed": false,
     "input": [
      "base_url = \"http://mouflon.dkrz.de/wps?request=Execute&service=WPS&version=1.0.0&identifier=%s&DataInputs=%s\""
     ],
     "language": "python",
     "metadata": {},
     "outputs": [],
     "prompt_number": 58
    },
    {
     "cell_type": "code",
     "collapsed": false,
     "input": [
      "nc_url=\"http://mouflon.dkrz.de/thredds/fileServer/test/test1.nc\""
     ],
     "language": "python",
     "metadata": {},
     "outputs": [],
     "prompt_number": 72
    },
    {
     "cell_type": "code",
     "collapsed": false,
     "input": [
      "data_inputs = \"file_identifier=@xlink:href=%s\" % (urllib.quote_plus(nc_url))"
     ],
     "language": "python",
     "metadata": {},
     "outputs": [],
     "prompt_number": 73
    },
    {
     "cell_type": "code",
     "collapsed": false,
     "input": [
      "url = base_url % (identifier, data_inputs)"
     ],
     "language": "python",
     "metadata": {},
     "outputs": [],
     "prompt_number": 74
    },
    {
     "cell_type": "code",
     "collapsed": false,
     "input": [
      "print url"
     ],
     "language": "python",
     "metadata": {},
     "outputs": [
      {
       "output_type": "stream",
       "stream": "stdout",
       "text": [
        "http://mouflon.dkrz.de/wps?request=Execute&service=WPS&version=1.0.0&identifier=de.dkrz.cdo.sinfo.worker&DataInputs=file_identifier=@xlink:href=http%3A%2F%2Fmouflon.dkrz.de%2Fthredds%2FfileServer%2Ftest%2Ftest1.nc\n"
       ]
      }
     ],
     "prompt_number": 75
    },
    {
     "cell_type": "code",
     "collapsed": false,
     "input": [],
     "language": "python",
     "metadata": {},
     "outputs": []
    }
   ],
   "metadata": {}
  }
 ]
}