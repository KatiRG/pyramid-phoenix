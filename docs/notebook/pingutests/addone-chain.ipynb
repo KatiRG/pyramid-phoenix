{
 "metadata": {
  "name": "",
  "signature": "sha256:b89b59caba4a7c22008424b4e46edb1f2d02507efc5e0b6cb1477a872d153cec"
 },
 "nbformat": 3,
 "nbformat_minor": 0,
 "worksheets": [
  {
   "cells": [
    {
     "cell_type": "code",
     "collapsed": false,
     "input": [
      "req_url=\"{url}?request=Execute&service=WPS&version=1.0.0&identifier={id}&DataInputs={inputs}\"\n",
      "req_url+=\"&RawDataOutput=output\"\n"
     ],
     "language": "python",
     "metadata": {},
     "outputs": [],
     "prompt_number": 22
    },
    {
     "cell_type": "code",
     "collapsed": false,
     "input": [
      "wps_url = \"http://localhost:8090/wps\""
     ],
     "language": "python",
     "metadata": {},
     "outputs": [],
     "prompt_number": 2
    },
    {
     "cell_type": "code",
     "collapsed": false,
     "input": [
      "identifier=\"org.malleefowl.test.addone\""
     ],
     "language": "python",
     "metadata": {},
     "outputs": [],
     "prompt_number": 3
    },
    {
     "cell_type": "code",
     "collapsed": false,
     "input": [
      "data_inputs_1=\"input=1\""
     ],
     "language": "python",
     "metadata": {},
     "outputs": [],
     "prompt_number": 10
    },
    {
     "cell_type": "code",
     "collapsed": false,
     "input": [
      "url_1 = req_url.format(url=wps_url, id=identifier, inputs=data_inputs_1)"
     ],
     "language": "python",
     "metadata": {},
     "outputs": [],
     "prompt_number": 23
    },
    {
     "cell_type": "code",
     "collapsed": false,
     "input": [
      "print url_1"
     ],
     "language": "python",
     "metadata": {},
     "outputs": [
      {
       "output_type": "stream",
       "stream": "stdout",
       "text": [
        "http://localhost:8090/wps?request=Execute&service=WPS&version=1.0.0&identifier=org.malleefowl.test.addone&DataInputs=input=1&RawDataOutput=output\n"
       ]
      }
     ],
     "prompt_number": 24
    },
    {
     "cell_type": "code",
     "collapsed": false,
     "input": [
      "import urllib\n",
      "result = urllib.urlopen(url_1)\n",
      "print result.readlines()"
     ],
     "language": "python",
     "metadata": {},
     "outputs": [
      {
       "output_type": "stream",
       "stream": "stdout",
       "text": [
        "['<html>\\n', '  <head>\\n', '    <title>Internal Server Error</title>\\n', '  </head>\\n', '  <body>\\n', '    <h1>Internal Server Error</h1>\\n', '    <h2>Traceback:</h2>\\n', '<pre>Traceback (most recent call last):\\n', '  File \"/opt/anaconda/lib/python2.7/site-packages/gunicorn-18.0-py2.7.egg/gunicorn/workers/sync.py\", line 136, in handle_request\\n', '    for item in respiter:\\n', \"TypeError: 'int' object is not iterable\\n\", '</pre>\\n', '  </body>\\n', '</html>\\n', '\\n']\n"
       ]
      }
     ],
     "prompt_number": 30
    },
    {
     "cell_type": "code",
     "collapsed": false,
     "input": [
      "data_inputs_2=\"input=@xlink:href=%s\" % (url_1)"
     ],
     "language": "python",
     "metadata": {},
     "outputs": [],
     "prompt_number": 13
    },
    {
     "cell_type": "code",
     "collapsed": false,
     "input": [
      "url_2 = req_url.format(url=wps_url, id=identifier, inputs=data_inputs_2)"
     ],
     "language": "python",
     "metadata": {},
     "outputs": [],
     "prompt_number": 14
    },
    {
     "cell_type": "code",
     "collapsed": false,
     "input": [
      "print url_2"
     ],
     "language": "python",
     "metadata": {},
     "outputs": [
      {
       "output_type": "stream",
       "stream": "stdout",
       "text": [
        "http://localhost:8090/wps?request=Execute&service=WPS&version=1.0.0&identifier=org.malleefowl.test.addone&DataInputs=input=@xlink:href=http://localhost:8090/wps?request=Execute&service=WPS&version=1.0.0&identifier=org.malleefowl.test.addone&DataInputs=input=1\n"
       ]
      }
     ],
     "prompt_number": 15
    },
    {
     "cell_type": "code",
     "collapsed": false,
     "input": [],
     "language": "python",
     "metadata": {},
     "outputs": []
    }
   ],
   "metadata": {}
  }
 ]
}