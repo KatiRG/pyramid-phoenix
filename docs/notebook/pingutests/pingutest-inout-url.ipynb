{
 "metadata": {
  "name": "",
  "signature": "sha256:c4ab0fc7216b239f99682be6a4d710625eefc3a60eb4a4eee27ecaef4a996b6e"
 },
 "nbformat": 3,
 "nbformat_minor": 0,
 "worksheets": [
  {
   "cells": [
    {
     "cell_type": "code",
     "collapsed": false,
     "input": [
      "import urllib2"
     ],
     "language": "python",
     "metadata": {},
     "outputs": [],
     "prompt_number": 1
    },
    {
     "cell_type": "code",
     "collapsed": false,
     "input": [],
     "language": "python",
     "metadata": {},
     "outputs": []
    }
   ],
   "metadata": {}
  }
 ]
}