{
 "metadata": {
  "name": "",
  "signature": "sha256:81768b4c07453e5011c5f1ce40a0dfe00dade3e29c31b7ae9dd01b18e251db1f"
 },
 "nbformat": 3,
 "nbformat_minor": 0,
 "worksheets": [
  {
   "cells": [
    {
     "cell_type": "code",
     "collapsed": false,
     "input": [
      "import urllib"
     ],
     "language": "python",
     "metadata": {},
     "outputs": [],
     "prompt_number": 39
    },
    {
     "cell_type": "code",
     "collapsed": false,
     "input": [
      "token=\"ler7RHY5QF2yqCM1CnIQrQ\""
     ],
     "language": "python",
     "metadata": {},
     "outputs": [],
     "prompt_number": 40
    },
    {
     "cell_type": "code",
     "collapsed": false,
     "input": [
      "credentials=\"http://mouflon.dkrz.de/wpsoutputs/output-81d1ae34-d460-11e3-8b4c-d25f2d6b8739.pem\""
     ],
     "language": "python",
     "metadata": {},
     "outputs": [],
     "prompt_number": 82
    },
    {
     "cell_type": "code",
     "collapsed": false,
     "input": [
      "identifier=\"org.malleefowl.esgf.wget.source\""
     ],
     "language": "python",
     "metadata": {},
     "outputs": [],
     "prompt_number": 83
    },
    {
     "cell_type": "code",
     "collapsed": false,
     "input": [
      "file_identifier=\"http://esg-dn1.nsc.liu.se/thredds/fileServer/esg_dataroot1/cordexdata/cordex/output/EUR-44/SMHI/MPI-M-MPI-ESM-LR/historical/r1i1p1/SMHI-RCA4/v1/day/tas/v20130927/tas_EUR-44_MPI-M-MPI-ESM-LR_historical_r1i1p1_SMHI-RCA4_v1_day_20010101-20051231.nc\""
     ],
     "language": "python",
     "metadata": {},
     "outputs": [],
     "prompt_number": 101
    },
    {
     "cell_type": "code",
     "collapsed": false,
     "input": [
      "data_inputs=\"file_identifier=%s;token=%s;credentials=@xlink:href=%s\" % (file_identifier, token, credentials)"
     ],
     "language": "python",
     "metadata": {},
     "outputs": [],
     "prompt_number": 102
    },
    {
     "cell_type": "code",
     "collapsed": false,
     "input": [
      "base_url=\"http://mouflon.dkrz.de/wps?request=Execute&version=1.0.0&service=WPS&identifier=%s&DataInputs=%s\""
     ],
     "language": "python",
     "metadata": {},
     "outputs": [],
     "prompt_number": 103
    },
    {
     "cell_type": "code",
     "collapsed": false,
     "input": [
      "source_url=base_url % (identifier, data_inputs)"
     ],
     "language": "python",
     "metadata": {},
     "outputs": [],
     "prompt_number": 106
    },
    {
     "cell_type": "code",
     "collapsed": false,
     "input": [
      "source_url = source_url + \"&RawDataOutput=output\""
     ],
     "language": "python",
     "metadata": {},
     "outputs": [],
     "prompt_number": 115
    },
    {
     "cell_type": "code",
     "collapsed": false,
     "input": [
      "print source_url"
     ],
     "language": "python",
     "metadata": {},
     "outputs": [
      {
       "output_type": "stream",
       "stream": "stdout",
       "text": [
        "http://mouflon.dkrz.de/wps?request=Execute&version=1.0.0&service=WPS&identifier=org.malleefowl.esgf.wget.source&DataInputs=file_identifier=http://esg-dn1.nsc.liu.se/thredds/fileServer/esg_dataroot1/cordexdata/cordex/output/EUR-44/SMHI/MPI-M-MPI-ESM-LR/historical/r1i1p1/SMHI-RCA4/v1/day/tas/v20130927/tas_EUR-44_MPI-M-MPI-ESM-LR_historical_r1i1p1_SMHI-RCA4_v1_day_20010101-20051231.nc;token=ler7RHY5QF2yqCM1CnIQrQ;credentials=@xlink:href=http://mouflon.dkrz.de/wpsoutputs/output-81d1ae34-d460-11e3-8b4c-d25f2d6b8739.pem&RawDataOutput=output\n"
       ]
      }
     ],
     "prompt_number": 116
    },
    {
     "cell_type": "code",
     "collapsed": false,
     "input": [
      "identifier=\"de.dkrz.cdo.sinfo.worker\""
     ],
     "language": "python",
     "metadata": {},
     "outputs": [],
     "prompt_number": 108
    },
    {
     "cell_type": "code",
     "collapsed": false,
     "input": [
      "data_inputs=\"file_identifier=%s\" % (urllib.quote_plus(source_url))"
     ],
     "language": "python",
     "metadata": {},
     "outputs": [],
     "prompt_number": 112
    },
    {
     "cell_type": "code",
     "collapsed": false,
     "input": [
      "url = base_url % (identifier, data_inputs)"
     ],
     "language": "python",
     "metadata": {},
     "outputs": [],
     "prompt_number": 113
    },
    {
     "cell_type": "code",
     "collapsed": false,
     "input": [
      "url = url + \"&ResponseDocument=output\""
     ],
     "language": "python",
     "metadata": {},
     "outputs": [],
     "prompt_number": 117
    },
    {
     "cell_type": "code",
     "collapsed": false,
     "input": [
      "print url"
     ],
     "language": "python",
     "metadata": {},
     "outputs": [
      {
       "output_type": "stream",
       "stream": "stdout",
       "text": [
        "http://mouflon.dkrz.de/wps?request=Execute&version=1.0.0&service=WPS&identifier=de.dkrz.cdo.sinfo.worker&DataInputs=file_identifier=http%3A%2F%2Fmouflon.dkrz.de%2Fwps%3Frequest%3DExecute%26version%3D1.0.0%26service%3DWPS%26identifier%3Dorg.malleefowl.esgf.wget.source%26DataInputs%3Dfile_identifier%3Dhttp%3A%2F%2Fesg-dn1.nsc.liu.se%2Fthredds%2FfileServer%2Fesg_dataroot1%2Fcordexdata%2Fcordex%2Foutput%2FEUR-44%2FSMHI%2FMPI-M-MPI-ESM-LR%2Fhistorical%2Fr1i1p1%2FSMHI-RCA4%2Fv1%2Fday%2Ftas%2Fv20130927%2Ftas_EUR-44_MPI-M-MPI-ESM-LR_historical_r1i1p1_SMHI-RCA4_v1_day_20010101-20051231.nc%3Btoken%3Dler7RHY5QF2yqCM1CnIQrQ%3Bcredentials%3D%40xlink%3Ahref%3Dhttp%3A%2F%2Fmouflon.dkrz.de%2Fwpsoutputs%2Foutput-81d1ae34-d460-11e3-8b4c-d25f2d6b8739.pem&ResponseDocument=output\n"
       ]
      }
     ],
     "prompt_number": 118
    },
    {
     "cell_type": "code",
     "collapsed": false,
     "input": [],
     "language": "python",
     "metadata": {},
     "outputs": []
    }
   ],
   "metadata": {}
  }
 ]
}